{
 "cells": [
  {
   "cell_type": "code",
   "execution_count": 1,
   "metadata": {},
   "outputs": [],
   "source": [
    "import torch\n",
    "import torch.nn as nn\n",
    "import torch.nn.functional as F\n",
    "import torch.optim as optim\n",
    "\n",
    "from torchvision.datasets import MNIST\n",
    "from torchvision.transforms import Compose, ToTensor, Normalize\n",
    "from torch.utils.data import random_split, DataLoader, TensorDataset\n",
    "\n",
    "from tqdm import trange\n",
    "\n",
    "import matplotlib.pyplot as plt"
   ]
  },
  {
   "cell_type": "code",
   "execution_count": 2,
   "metadata": {},
   "outputs": [],
   "source": [
    "MNIST_ROOT = \"/checkpoint/wesbz/Datasets\"\n",
    "device = \"cuda\" if torch.cuda.is_available() else \"cpu\"\n",
    "seed = 42\n",
    "batch_size = 128"
   ]
  },
  {
   "cell_type": "code",
   "execution_count": 3,
   "metadata": {},
   "outputs": [],
   "source": [
    "torch.manual_seed(seed)\n",
    "\n",
    "transform = Compose([\n",
    "    ToTensor(),\n",
    "    Normalize((0.1307,), (0.3081,))\n",
    "])\n",
    "\n",
    "mnist = MNIST(MNIST_ROOT, train=True, download=True, transform=transform)\n",
    "transform_loader = DataLoader(mnist, batch_size=60_000, shuffle=True)\n",
    "tfmd_data = next(iter(transform_loader))\n",
    "mnist_dataset = TensorDataset(tfmd_data[0].to(device), tfmd_data[1].to(device))\n",
    "\n",
    "train_loader = DataLoader(mnist_dataset, batch_size=batch_size, shuffle=False)\n",
    "\n",
    "mnist_test = MNIST(MNIST_ROOT, train=False, download=True, transform=transform)\n",
    "transform_loader = DataLoader(mnist_test, batch_size=10_000, shuffle=False)\n",
    "tfmd_data = next(iter(transform_loader))\n",
    "test_data = TensorDataset(tfmd_data[0].to(device), tfmd_data[1].to(device))\n",
    "test_loader = DataLoader(test_data, batch_size=batch_size, shuffle=False)"
   ]
  },
  {
   "cell_type": "code",
   "execution_count": 4,
   "metadata": {},
   "outputs": [
    {
     "data": {
      "text/plain": [
       "Sequential(\n",
       "  (0): Conv2d(1, 8, kernel_size=(5, 5), stride=(2, 2), padding=(1, 1))\n",
       "  (1): ReLU()\n",
       "  (2): Conv2d(8, 32, kernel_size=(5, 5), stride=(2, 2), padding=(1, 1))\n",
       "  (3): ReLU()\n",
       "  (4): Flatten(start_dim=1, end_dim=-1)\n",
       "  (5): Linear(in_features=1152, out_features=64, bias=True)\n",
       "  (6): ReLU()\n",
       "  (7): Linear(in_features=64, out_features=10, bias=True)\n",
       "  (8): ReLU()\n",
       "  (9): Linear(in_features=10, out_features=10, bias=True)\n",
       "  (10): ReLU()\n",
       "  (11): Linear(in_features=10, out_features=10, bias=True)\n",
       ")"
      ]
     },
     "execution_count": 4,
     "metadata": {},
     "output_type": "execute_result"
    }
   ],
   "source": [
    "n_h = 10\n",
    "torch.manual_seed(seed)\n",
    "model = nn.Sequential(\n",
    "    nn.Conv2d(in_channels=1, out_channels=8, kernel_size=5, stride=2, padding=1),\n",
    "    nn.ReLU(),\n",
    "    nn.Conv2d(in_channels=8, out_channels=32, kernel_size=5, stride=2, padding=1),\n",
    "    nn.ReLU(),\n",
    "    nn.Flatten(),\n",
    "    nn.Linear(in_features=1152, out_features=64),\n",
    "    nn.ReLU(),\n",
    "    nn.Linear(in_features=64, out_features=n_h),\n",
    "    nn.ReLU(),\n",
    "    nn.Linear(in_features=n_h, out_features=n_h),\n",
    "    nn.ReLU(),\n",
    "    nn.Linear(in_features=n_h, out_features=10)\n",
    ")\n",
    "\n",
    "model.to(device)"
   ]
  },
  {
   "cell_type": "code",
   "execution_count": 5,
   "metadata": {},
   "outputs": [],
   "source": [
    "lr = 1e-1\n",
    "epochs = 10\n",
    "# Training\n",
    "optimizer = optim.SGD(model.parameters(), lr=lr)\n",
    "criterion = nn.CrossEntropyLoss()\n",
    "scheduler = optim.lr_scheduler.LambdaLR(optimizer, lambda epoch: 1 / (epoch+1))\n",
    "scheduler = optim.lr_scheduler.LambdaLR(optimizer, lambda epoch: 0.95 ** epoch)\n",
    "\n",
    "hist_train_acc = []\n",
    "hist_train_loss = []"
   ]
  },
  {
   "cell_type": "code",
   "execution_count": 6,
   "metadata": {},
   "outputs": [
    {
     "name": "stderr",
     "output_type": "stream",
     "text": [
      "  0%|                                                                                                                                                                                          | 0/10 [00:00<?, ?it/s]"
     ]
    },
    {
     "name": "stderr",
     "output_type": "stream",
     "text": [
      "100%|█████████████████████████████████████████████████████████████████████████████████████████████████████████████████████████████████████████████████████████████████| 10/10 [00:10<00:00,  1.05s/it, train_acc=99.5]"
     ]
    },
    {
     "name": "stdout",
     "output_type": "stream",
     "text": [
      "Test accuracy: 97.85%\n"
     ]
    },
    {
     "name": "stderr",
     "output_type": "stream",
     "text": [
      "\n"
     ]
    }
   ],
   "source": [
    "with trange(epochs) as t:\n",
    "    for _ in t:\n",
    "\n",
    "        model.train()\n",
    "\n",
    "        train_loss = 0.0\n",
    "        correct = 0\n",
    "        total = 0\n",
    "\n",
    "        for X, y in train_loader:\n",
    "            X, y = X.to(device), y.to(device)\n",
    "\n",
    "            optimizer.zero_grad()\n",
    "\n",
    "            y_pred = model(X)\n",
    "            loss = criterion(y_pred, y)\n",
    "            loss.backward()\n",
    "            optimizer.step()\n",
    "\n",
    "            train_loss += loss.item()\n",
    "            _, predicted = y_pred.max(1)\n",
    "            total += y.size(0)\n",
    "            correct += predicted.eq(y).sum().item()\n",
    "\n",
    "        train_loss /= len(train_loader)\n",
    "\n",
    "        # print(f\"Train accuarcy: {100. * correct / total:.3f}%\")\n",
    "        train_acc = 100. * correct / total\n",
    "        hist_train_acc.append(100. * correct / total)\n",
    "        hist_train_loss.append(train_loss)\n",
    "\n",
    "        # scheduler.step()\n",
    "\n",
    "        t.set_postfix(train_acc=train_acc)\n",
    "\n",
    "test_loss = 0.0\n",
    "correct = 0\n",
    "total = 0\n",
    "\n",
    "model.eval()\n",
    "with torch.no_grad():\n",
    "    for X, y in test_loader:\n",
    "        X, y = X.to(device), y.to(device)\n",
    "\n",
    "        y_pred = model(X)\n",
    "        loss = criterion(y_pred, y)\n",
    "\n",
    "        test_loss += loss.item()\n",
    "        _, predicted = y_pred.max(1)\n",
    "        total += y.size(0)\n",
    "        correct += predicted.eq(y).sum().item()\n",
    "\n",
    "test_loss /= len(test_loader)\n",
    "\n",
    "print(f\"Test accuracy: {100. * correct / total}%\")"
   ]
  },
  {
   "cell_type": "code",
   "execution_count": 7,
   "metadata": {},
   "outputs": [],
   "source": [
    "model.eval()\n",
    "first_weights = model[-3].weight.detach().clone()"
   ]
  },
  {
   "cell_type": "code",
   "execution_count": 8,
   "metadata": {},
   "outputs": [
    {
     "name": "stdout",
     "output_type": "stream",
     "text": [
      "tensor([1.7864, 1.7398, 1.6188, 1.4724, 1.3909, 1.3505, 0.7764, 0.5099, 0.3884,\n",
      "        0.1109], device='cuda:0')\n",
      "tensor([-1.0166+0.4984j, -1.0166-0.4984j,  0.0265+1.0236j,  0.0265-1.0236j,\n",
      "         1.0064+0.4859j,  1.0064-0.4859j,  0.4233+0.6877j,  0.4233-0.6877j,\n",
      "         0.3766+0.0000j,  0.5757+0.0000j], device='cuda:0')\n"
     ]
    }
   ],
   "source": [
    "first_weights\n",
    "print(torch.linalg.svdvals(first_weights))\n",
    "print(torch.linalg.eigvals(first_weights))"
   ]
  },
  {
   "cell_type": "code",
   "execution_count": 9,
   "metadata": {},
   "outputs": [],
   "source": [
    "replay_test_acc = [correct/total]\n",
    "replay_test_loss = [test_loss]\n",
    "replay_mapping = [torch.eye(model[-3].out_features).to(device)]\n",
    "replay_weights = [model[-3].weight.detach().clone()]\n",
    "replay_biases = [model[-3].bias.detach().clone()]\n",
    "replay_sv = torch.linalg.svdvals(replay_weights[-1]).tolist()"
   ]
  },
  {
   "cell_type": "code",
   "execution_count": 10,
   "metadata": {},
   "outputs": [
    {
     "data": {
      "text/plain": [
       "tensor([[ 0.2621, -0.3260, -0.2815,  0.1458, -0.4860,  0.4947, -0.1435, -0.2907,\n",
       "          0.0411,  1.0223],\n",
       "        [ 0.5987, -0.0845, -0.3801,  0.4264, -0.3993,  0.4066, -0.1862, -0.2786,\n",
       "          0.3704, -0.2192],\n",
       "        [ 1.0699, -0.2189,  0.0536,  0.2223,  0.6176, -0.5186,  0.0129,  0.4156,\n",
       "         -0.0843, -0.3438],\n",
       "        [-0.0232, -0.0684, -0.3381, -0.5044,  0.8740,  0.9924, -0.1526, -0.3719,\n",
       "         -0.1242, -0.0229],\n",
       "        [-0.2520,  0.0657, -0.1531, -0.0641, -0.0658, -0.1311,  0.2289, -0.0237,\n",
       "         -0.1089, -0.1345],\n",
       "        [-0.1019,  0.2138,  0.5839,  0.7192, -0.1259,  0.6090, -0.1785, -0.2114,\n",
       "         -0.4915, -0.6257],\n",
       "        [-0.0515, -0.1950,  0.0196, -0.1106, -0.0690,  0.2209,  0.2867, -0.1423,\n",
       "          0.1170, -0.2376],\n",
       "        [-0.5103, -0.0056, -0.3644,  0.6204,  0.3861,  0.1070,  0.1763,  0.2732,\n",
       "          0.1415, -0.3259],\n",
       "        [-0.1250,  0.6150,  1.0195, -0.1856,  0.2832,  0.3232, -0.3078,  0.2497,\n",
       "          0.5735,  0.1195],\n",
       "        [-0.2380, -0.4722, -0.2001,  0.7933,  0.7784, -0.3179, -0.1828, -0.2368,\n",
       "          0.5769,  0.4281]], device='cuda:0')"
      ]
     },
     "execution_count": 10,
     "metadata": {},
     "output_type": "execute_result"
    }
   ],
   "source": [
    "model[-3].weight.detach().clone()"
   ]
  },
  {
   "cell_type": "code",
   "execution_count": 11,
   "metadata": {},
   "outputs": [
    {
     "data": {
      "text/plain": [
       "tensor([ 0.0453, -0.2414,  0.2875,  0.3443, -0.1977, -0.0948, -0.1241, -0.1162,\n",
       "         0.1580, -0.0761], device='cuda:0')"
      ]
     },
     "execution_count": 11,
     "metadata": {},
     "output_type": "execute_result"
    }
   ],
   "source": [
    "model[-3].bias.detach().clone()"
   ]
  },
  {
   "cell_type": "code",
   "execution_count": 12,
   "metadata": {},
   "outputs": [],
   "source": [
    "model[-3].reset_parameters()"
   ]
  },
  {
   "cell_type": "code",
   "execution_count": 13,
   "metadata": {},
   "outputs": [
    {
     "data": {
      "text/plain": [
       "tensor([[ 0.0714, -0.3099, -0.0642, -0.2907, -0.2174, -0.0111,  0.1494, -0.0595,\n",
       "          0.0120, -0.1349],\n",
       "        [-0.1634,  0.2674,  0.2087, -0.2946, -0.0709, -0.2641,  0.1734, -0.1396,\n",
       "          0.0088, -0.1854],\n",
       "        [-0.3116,  0.2372,  0.2961, -0.2403, -0.1915, -0.0315, -0.2839, -0.0068,\n",
       "          0.2739, -0.0754],\n",
       "        [-0.2841, -0.1478,  0.0945, -0.1471, -0.2066,  0.2255, -0.1416, -0.1839,\n",
       "         -0.2713,  0.1708],\n",
       "        [ 0.0696, -0.0984,  0.3069, -0.0195,  0.2658,  0.1345, -0.2497,  0.1985,\n",
       "         -0.2472,  0.0695],\n",
       "        [-0.2055,  0.2154,  0.2343,  0.1446, -0.1555, -0.2108,  0.1436, -0.0641,\n",
       "         -0.1457,  0.1916],\n",
       "        [-0.0563, -0.2230, -0.3018, -0.1688, -0.1709, -0.0643, -0.0121, -0.1188,\n",
       "          0.0772, -0.0910],\n",
       "        [ 0.0956,  0.2723, -0.1457, -0.2871,  0.3115, -0.1399,  0.0068,  0.0598,\n",
       "          0.0737, -0.1081],\n",
       "        [ 0.1920, -0.0025,  0.1251,  0.0915,  0.2567, -0.1081, -0.1991, -0.0919,\n",
       "          0.1579, -0.1374],\n",
       "        [ 0.1827,  0.2633, -0.1545,  0.1234,  0.0053, -0.3010,  0.0376,  0.2022,\n",
       "         -0.2896,  0.0136]], device='cuda:0')"
      ]
     },
     "execution_count": 13,
     "metadata": {},
     "output_type": "execute_result"
    }
   ],
   "source": [
    "model[-3].weight.detach().clone()"
   ]
  },
  {
   "cell_type": "code",
   "execution_count": 14,
   "metadata": {},
   "outputs": [
    {
     "data": {
      "text/plain": [
       "tensor([ 0.3085, -0.2347,  0.0393,  0.0140,  0.1546,  0.0604,  0.2939,  0.2517,\n",
       "         0.1726,  0.1063], device='cuda:0')"
      ]
     },
     "execution_count": 14,
     "metadata": {},
     "output_type": "execute_result"
    }
   ],
   "source": [
    "model[-3].bias.detach().clone()"
   ]
  },
  {
   "cell_type": "code",
   "execution_count": 15,
   "metadata": {},
   "outputs": [
    {
     "name": "stderr",
     "output_type": "stream",
     "text": [
      "  0%|                                                                                                                                                                                          | 0/10 [00:00<?, ?it/s]"
     ]
    },
    {
     "name": "stderr",
     "output_type": "stream",
     "text": [
      "100%|█████████████████████████████████████████████████████████████████████████████████████████████████████████████████████████████████████████████████████████████████| 10/10 [00:09<00:00,  1.05it/s, train_acc=99.7]\n"
     ]
    },
    {
     "name": "stdout",
     "output_type": "stream",
     "text": [
      "Test accuracy: 98.1%\n"
     ]
    },
    {
     "data": {
      "image/png": "[encoded data removed]",
      "text/plain": [
       "<Figure size 640x480 with 1 Axes>"
      ]
     },
     "metadata": {},
     "output_type": "display_data"
    },
    {
     "name": "stderr",
     "output_type": "stream",
     "text": [
      " 10%|█████████████████▊                                                                                                                                                                | 1/10 [00:10<01:38, 10.95s/it]"
     ]
    },
    {
     "name": "stdout",
     "output_type": "stream",
     "text": [
      "tensor([1.6530, 1.4151, 1.3114, 1.2636, 1.2191, 0.8139, 0.6523, 0.3242, 0.1616,\n",
      "        0.0491], device='cuda:0', grad_fn=<LinalgSvdBackward0>)\n",
      "tensor([ 0.9790+0.0000j,  0.3111+0.8847j,  0.3111-0.8847j, -0.6463+0.4999j,\n",
      "        -0.6463-0.4999j, -0.8046+0.0000j,  0.0742+0.3579j,  0.0742-0.3579j,\n",
      "        -0.1767+0.2705j, -0.1767-0.2705j], device='cuda:0',\n",
      "       grad_fn=<LinalgEigBackward0>)\n"
     ]
    },
    {
     "name": "stderr",
     "output_type": "stream",
     "text": [
      "100%|█████████████████████████████████████████████████████████████████████████████████████████████████████████████████████████████████████████████████████████████████| 10/10 [00:09<00:00,  1.05it/s, train_acc=99.8]\n"
     ]
    },
    {
     "name": "stdout",
     "output_type": "stream",
     "text": [
      "Test accuracy: 98.47%\n"
     ]
    },
    {
     "data": {
      "image/png": "[encoded data removed]",
      "text/plain": [
       "<Figure size 640x480 with 1 Axes>"
      ]
     },
     "metadata": {},
     "output_type": "display_data"
    },
    {
     "name": "stderr",
     "output_type": "stream",
     "text": [
      " 20%|███████████████████████████████████▌                                                                                                                                              | 2/10 [00:21<01:26, 10.86s/it]"
     ]
    },
    {
     "name": "stdout",
     "output_type": "stream",
     "text": [
      "tensor([1.9548, 1.3842, 1.3155, 1.2080, 1.1125, 0.6723, 0.5465, 0.3476, 0.2731,\n",
      "        0.1222], device='cuda:0', grad_fn=<LinalgSvdBackward0>)\n",
      "tensor([ 1.3664+0.0000j, -0.7387+0.5061j, -0.7387-0.5061j, -0.1422+0.8509j,\n",
      "        -0.1422-0.8509j,  0.7491+0.0000j, -0.3916+0.2232j, -0.3916-0.2232j,\n",
      "         0.2505+0.3187j,  0.2505-0.3187j], device='cuda:0',\n",
      "       grad_fn=<LinalgEigBackward0>)\n"
     ]
    },
    {
     "name": "stderr",
     "output_type": "stream",
     "text": []
    }
   ],
   "source": [
    "torch.seed()\n",
    "for replay in trange(10):\n",
    "    model[-3].reset_parameters()\n",
    "    with trange(epochs) as t:\n",
    "        for _ in t:\n",
    "\n",
    "            model[-3].train()\n",
    "\n",
    "            train_loss = 0.0\n",
    "            correct = 0\n",
    "            total = 0\n",
    "\n",
    "            for X, y in train_loader:\n",
    "                X, y = X.to(device), y.to(device)\n",
    "\n",
    "                optimizer.zero_grad()\n",
    "\n",
    "                y_pred = model(X)\n",
    "                loss = criterion(y_pred, y)\n",
    "                loss.backward()\n",
    "                optimizer.step()\n",
    "\n",
    "                train_loss += loss.item()\n",
    "                _, predicted = y_pred.max(1)\n",
    "                total += y.size(0)\n",
    "                correct += predicted.eq(y).sum().item()\n",
    "\n",
    "            train_loss /= len(train_loader)\n",
    "\n",
    "            # print(f\"Train accuarcy: {100. * correct / total:.3f}%\")\n",
    "            train_acc = 100. * correct / total\n",
    "            hist_train_acc.append(100. * correct / total)\n",
    "            hist_train_loss.append(train_loss)\n",
    "\n",
    "            # scheduler.step()\n",
    "\n",
    "            t.set_postfix(train_acc=train_acc)\n",
    "\n",
    "    test_loss = 0.0\n",
    "    correct = 0\n",
    "    total = 0\n",
    "\n",
    "    model.eval()\n",
    "    with torch.no_grad():\n",
    "        for X, y in test_loader:\n",
    "            X, y = X.to(device), y.to(device)\n",
    "\n",
    "            y_pred = model(X)\n",
    "            loss = criterion(y_pred, y)\n",
    "\n",
    "            test_loss += loss.item()\n",
    "            _, predicted = y_pred.max(1)\n",
    "            total += y.size(0)\n",
    "            correct += predicted.eq(y).sum().item()\n",
    "\n",
    "    test_loss /= len(test_loader)\n",
    "\n",
    "    print(f\"Test accuracy: {100. * correct / total}%\")\n",
    "\n",
    "    replay_test_acc.append(correct/total)\n",
    "    replay_test_loss.append(test_loss)\n",
    "    replay_weights.append(model[-3].weight.detach().clone())\n",
    "    replay_biases.append(model[-3].bias.detach().clone())\n",
    "\n",
    "    # Get the mapping\n",
    "    A = torch.rand(model[-3].out_features, model[-3].out_features).to(device)\n",
    "    A.requires_grad = True\n",
    "    map_optimizer = optim.SGD([A], lr=1e-1)\n",
    "    hist_map_loss = []\n",
    "    for _ in range(3_000):\n",
    "        map_optimizer.zero_grad()\n",
    "        loss = torch.norm(A @ model[-3].weight - first_weights)**2\n",
    "        loss.backward()\n",
    "        hist_map_loss.append(loss.item())\n",
    "        map_optimizer.step()\n",
    "    plt.figure()\n",
    "    plt.plot(hist_map_loss)\n",
    "    plt.yscale(\"log\")\n",
    "    plt.show(block=False)\n",
    "    print(torch.linalg.svdvals(model[-3].weight))\n",
    "    sv = torch.linalg.svdvals(model[-3].weight)\n",
    "    print(torch.linalg.eigvals(model[-3].weight))\n",
    "    replay_sv.extend((sv/sum(sv)).tolist())\n",
    "    replay_mapping.append(A)\n"
   ]
  },
  {
   "cell_type": "code",
   "execution_count": null,
   "metadata": {},
   "outputs": [
    {
     "data": {
      "text/plain": [
       "[tensor([[1., 0., 0., 0., 0., 0., 0., 0., 0., 0.],\n",
       "         [0., 1., 0., 0., 0., 0., 0., 0., 0., 0.],\n",
       "         [0., 0., 1., 0., 0., 0., 0., 0., 0., 0.],\n",
       "         [0., 0., 0., 1., 0., 0., 0., 0., 0., 0.],\n",
       "         [0., 0., 0., 0., 1., 0., 0., 0., 0., 0.],\n",
       "         [0., 0., 0., 0., 0., 1., 0., 0., 0., 0.],\n",
       "         [0., 0., 0., 0., 0., 0., 1., 0., 0., 0.],\n",
       "         [0., 0., 0., 0., 0., 0., 0., 1., 0., 0.],\n",
       "         [0., 0., 0., 0., 0., 0., 0., 0., 1., 0.],\n",
       "         [0., 0., 0., 0., 0., 0., 0., 0., 0., 1.]], device='cuda:0'),\n",
       " tensor([[ 0.4862,  1.7765, -0.5360,  1.0078,  0.4677,  2.0632,  1.0944, -0.2149,\n",
       "           0.9853,  0.4813],\n",
       "         [ 0.8770, -1.9772,  1.1926,  0.2204, -1.4127, -2.3230,  0.4641, -0.6945,\n",
       "           0.8228,  1.0408],\n",
       "         [-0.9425,  2.9573,  0.2863,  0.2708,  1.2110,  2.3094,  0.2072,  0.5110,\n",
       "          -0.0897, -0.3649],\n",
       "         [-0.4457,  2.9566, -1.0898,  1.6924,  1.4167,  1.7325,  0.6027,  0.2968,\n",
       "           1.3280, -0.2625],\n",
       "         [ 0.1986, -1.2582, -0.0294, -0.7190, -0.3929, -1.4429, -0.8451,  0.1000,\n",
       "          -0.7403, -0.3545],\n",
       "         [-0.3507,  2.1164, -0.8094,  0.7822,  0.3706,  0.8606,  1.9412,  0.0729,\n",
       "           2.5513,  0.2993],\n",
       "         [ 0.7232, -0.7799,  0.3228, -0.3782, -0.1010, -1.7886, -0.0228, -0.4220,\n",
       "           0.5382, -0.0402],\n",
       "         [-0.1879,  0.7968, -0.2481,  0.0763,  0.5654,  0.7955, -0.1741,  1.5116,\n",
       "           0.0737, -0.2755],\n",
       "         [-0.4733,  0.7648,  0.1957,  1.0748,  0.7551,  1.7334,  1.5914, -0.1738,\n",
       "           0.5489,  0.3105],\n",
       "         [ 0.3072, -0.7004,  0.1391, -0.2297,  0.1111, -1.2017, -0.4466,  0.0333,\n",
       "           0.1340,  1.0884]], device='cuda:0', requires_grad=True),\n",
       " tensor([[ 0.2330,  0.8746, -0.2359,  0.9820, -0.3712, -2.5049,  2.1277, -0.1157,\n",
       "          -0.4356,  1.1659],\n",
       "         [ 0.1900, -0.5023, -0.2969, -1.1008,  0.0108,  2.9407,  0.1136, -0.1439,\n",
       "          -1.1438, -1.1398],\n",
       "         [-0.3614, -1.4354,  1.0673, -1.1082, -0.3794,  1.7691, -1.5016, -0.6333,\n",
       "          -0.9344, -0.8187],\n",
       "         [-0.9804, -0.2102, -0.2059,  1.7408, -1.3007, -2.8668,  1.6560, -0.3485,\n",
       "          -0.9914,  1.1215],\n",
       "         [ 0.2271, -0.0454, -0.1154, -0.1840,  0.2701,  0.9672, -0.8827,  0.0702,\n",
       "           0.5891, -0.4444],\n",
       "         [-3.8085,  1.1911, -3.3730,  1.2254, -0.9569, -0.1985,  2.1550, -2.1354,\n",
       "          -2.3753,  0.6643],\n",
       "         [ 0.1930, -0.3689, -0.1321, -0.6911,  0.4461,  2.0441, -1.1159, -0.7562,\n",
       "          -0.2703, -1.2518],\n",
       "         [-0.8859,  0.4674, -1.2039,  0.8086,  0.4752,  1.9957, -0.6239,  0.1360,\n",
       "           0.0148, -0.0737],\n",
       "         [ 1.6934,  0.3654,  1.3229, -0.2605,  1.3468, -1.8888, -0.0223,  1.6592,\n",
       "           1.0382, -0.1960],\n",
       "         [ 0.7089, -1.3446,  0.3326, -1.1252,  0.1022,  1.3216, -0.6668,  0.2637,\n",
       "          -0.3088,  0.1735]], device='cuda:0', requires_grad=True),\n",
       " tensor([[ 1.3564e-01,  1.1585e+00, -3.6803e-01,  3.7866e-01,  3.3232e-01,\n",
       "          -2.8142e-01, -9.5774e-01,  3.5178e-01,  2.5779e-01, -7.9674e-01],\n",
       "         [ 4.8227e-01,  1.0130e+00,  5.7255e-01,  7.2627e-01,  1.3966e-01,\n",
       "           8.9740e-01, -7.7693e-01,  2.3594e+00,  9.3981e-01, -9.9239e-01],\n",
       "         [-6.0635e-01, -1.8289e-01,  1.1937e+00, -3.2984e-01,  1.0318e+00,\n",
       "           1.3277e-01,  4.3044e-03, -8.9264e-01, -2.1214e-01,  1.0709e+00],\n",
       "         [-1.2849e-01,  8.0155e-01,  7.3648e-01,  1.6151e+00,  9.2950e-01,\n",
       "          -4.0645e-02, -7.8863e-01,  1.3049e+00,  7.1133e-01,  6.9782e-01],\n",
       "         [-3.3462e-02, -3.4194e-01, -2.0944e-01, -4.5665e-02,  1.5673e-01,\n",
       "          -1.0911e-01,  1.9397e-01,  3.9800e-02, -3.6246e-01, -3.3351e-01],\n",
       "         [ 2.3258e-01,  6.4765e-01,  1.2353e-01,  5.6722e-01, -2.5773e+00,\n",
       "           9.6322e-01,  7.6079e-01,  3.7508e+00,  1.4592e+00,  3.6080e-01],\n",
       "         [ 2.6933e-01,  1.0064e+00,  7.8114e-01,  8.1849e-01, -2.5145e-01,\n",
       "           2.1271e-02, -5.6462e-01,  3.4935e+00,  1.2477e+00, -1.0227e+00],\n",
       "         [-4.4023e-02, -4.5491e-01,  1.9493e-01,  1.2854e+00, -5.6210e-01,\n",
       "           5.9338e-01, -8.1978e-01,  3.4373e+00,  6.7671e-01, -2.4321e+00],\n",
       "         [ 4.8198e-01,  2.6359e-01,  1.8695e-01,  1.8689e-01, -1.8795e+00,\n",
       "          -2.3973e-02,  4.5528e-01,  8.3480e-01,  1.7616e+00,  5.1517e-01],\n",
       "         [ 1.0381e+00,  1.1713e+00,  9.5944e-01,  1.9061e+00, -3.2631e-01,\n",
       "           1.0812e+00, -2.8576e+00,  6.4494e+00,  3.1193e+00, -2.6437e+00]],\n",
       "        device='cuda:0', requires_grad=True),\n",
       " tensor([[ 1.2469,  0.2424, -0.2252,  0.2175,  0.4959,  0.5243, -0.5193, -0.2689,\n",
       "          -0.2158, -1.1794],\n",
       "         [ 0.2107,  0.3303,  0.2195, -0.5813,  0.1206,  0.6081, -0.2088,  0.0712,\n",
       "          -0.3133, -1.0186],\n",
       "         [ 0.0257, -0.0629,  1.1392, -0.1025,  0.0781,  0.7343, -0.1931,  0.4373,\n",
       "          -0.0844,  0.1401],\n",
       "         [-0.7756,  0.2045, -0.2035,  2.2988,  1.0029,  2.3511, -1.7557, -0.4175,\n",
       "           0.4343, -3.8342],\n",
       "         [ 1.0341,  0.3432,  0.2926, -0.0062,  0.7709,  0.4391,  0.3882,  0.5491,\n",
       "          -0.4551,  0.1571],\n",
       "         [ 0.2055,  1.5573, -0.5309, -0.5853, -0.2017, -0.3978,  1.2103, -0.0407,\n",
       "           0.0334, -1.4151],\n",
       "         [ 0.4174,  1.4840,  0.2390,  0.2905,  0.1224,  1.4964, -0.2138, -0.2748,\n",
       "           0.2254, -1.7311],\n",
       "         [ 0.4672,  1.1033, -0.0372,  0.7049,  0.6477,  0.3705, -0.0909,  0.7179,\n",
       "          -0.2116, -1.8336],\n",
       "         [ 1.1404,  0.1730, -0.2391, -0.0287,  0.3594, -0.1607,  1.0843,  0.0161,\n",
       "           0.5907, -1.0459],\n",
       "         [ 0.5166,  0.4532, -0.1858,  0.2418,  0.6099,  1.2441, -1.6081,  0.3418,\n",
       "           0.5150, -2.1199]], device='cuda:0', requires_grad=True),\n",
       " tensor([[ 1.1929, -1.1196,  0.4966, -0.3358, -0.0282,  0.3942,  0.5553,  0.5509,\n",
       "           2.4421, -0.0578],\n",
       "         [-0.0545,  0.2194,  0.4768, -0.8417,  0.0677,  0.8861,  0.8551,  0.9689,\n",
       "          -0.1136,  0.6894],\n",
       "         [-1.6048,  0.1733,  0.5757, -1.4005,  0.4285,  0.8891, -0.5862, -0.5793,\n",
       "          -0.1825,  0.0439],\n",
       "         [ 0.1428, -3.8149, -0.0182,  1.9500, -0.6964,  0.7520,  1.1418, -1.0731,\n",
       "           0.7694, -0.1614],\n",
       "         [-0.1493,  0.4260, -0.3351,  0.4234, -0.2085, -0.2713, -0.4388, -0.6840,\n",
       "          -0.7464, -0.1998],\n",
       "         [-0.3629,  0.6585, -1.2339, -1.0857, -0.9489, -0.4917, -0.9544,  0.7769,\n",
       "          -2.4583,  0.0632],\n",
       "         [-1.3826,  1.6074, -0.9191, -1.6555, -0.4463,  0.5811, -2.4669, -1.7241,\n",
       "          -3.7595, -0.6894],\n",
       "         [-0.3970,  0.2907, -1.0311,  2.1246, -1.3145, -1.2252, -0.4655, -1.2133,\n",
       "          -4.8390,  0.6744],\n",
       "         [ 0.0628,  0.4332, -0.8014, -0.0287,  0.2196, -0.5043, -0.0651,  0.2368,\n",
       "          -2.1163, -0.0662],\n",
       "         [ 0.0788,  1.1039,  0.2874, -0.2047,  1.0156,  0.8667,  0.6748,  1.3694,\n",
       "          -2.3248,  1.4503]], device='cuda:0', requires_grad=True)]"
      ]
     },
     "execution_count": 16,
     "metadata": {},
     "output_type": "execute_result"
    }
   ],
   "source": [
    "replay_mapping                     "
   ]
  },
  {
   "cell_type": "code",
   "execution_count": null,
   "metadata": {},
   "outputs": [],
   "source": [
    "U, S, V = torch.linalg.svd(model[-3].weight)"
   ]
  },
  {
   "cell_type": "code",
   "execution_count": null,
   "metadata": {},
   "outputs": [
    {
     "data": {
      "text/plain": [
       "tensor([2.4645, 1.7079, 1.4557, 1.2393, 0.9770, 0.5574, 0.4355, 0.2767, 0.2100,\n",
       "        0.0678], device='cuda:0', grad_fn=<LinalgSvdBackward0>)"
      ]
     },
     "execution_count": 18,
     "metadata": {},
     "output_type": "execute_result"
    }
   ],
   "source": [
    "S"
   ]
  },
  {
   "cell_type": "code",
   "execution_count": null,
   "metadata": {},
   "outputs": [
    {
     "data": {
      "text/plain": [
       "[[1.7700281143188477,\n",
       "  1.7104945182800293,\n",
       "  1.631276249885559,\n",
       "  1.525507926940918,\n",
       "  1.3579826354980469,\n",
       "  1.2822906970977783,\n",
       "  0.7093722820281982,\n",
       "  0.5141065716743469,\n",
       "  0.497064471244812,\n",
       "  0.0482974648475647],\n",
       " 0.17231829464435577,\n",
       " 0.15467500686645508,\n",
       " 0.14542602002620697,\n",
       " 0.13896113634109497,\n",
       " 0.12915180623531342,\n",
       " 0.10189840942621231,\n",
       " 0.09742113202810287,\n",
       " 0.034472376108169556,\n",
       " 0.02250063046813011,\n",
       " 0.003175074001774192,\n",
       " 0.21573945879936218,\n",
       " 0.16112005710601807,\n",
       " 0.1533803641796112,\n",
       " 0.13470345735549927,\n",
       " 0.11671312153339386,\n",
       " 0.10621267557144165,\n",
       " 0.050204817205667496,\n",
       " 0.032038331031799316,\n",
       " 0.019014930352568626,\n",
       " 0.010872786864638329,\n",
       " 0.17612163722515106,\n",
       " 0.16138358414173126,\n",
       " 0.14782564342021942,\n",
       " 0.13073869049549103,\n",
       " 0.12562671303749084,\n",
       " 0.10712771862745285,\n",
       " 0.06541983038187027,\n",
       " 0.04259844124317169,\n",
       " 0.03675059601664543,\n",
       " 0.006407059729099274,\n",
       " 0.2045712023973465,\n",
       " 0.18180955946445465,\n",
       " 0.14640076458454132,\n",
       " 0.1303798258304596,\n",
       " 0.11990107595920563,\n",
       " 0.11043228954076767,\n",
       " 0.05224493145942688,\n",
       " 0.04077737405896187,\n",
       " 0.013293121010065079,\n",
       " 0.0001898634945973754,\n",
       " 0.26241186261177063,\n",
       " 0.18184612691402435,\n",
       " 0.15499348938465118,\n",
       " 0.13195925951004028,\n",
       " 0.10403143614530563,\n",
       " 0.05934466794133186,\n",
       " 0.04637124761939049,\n",
       " 0.029461633414030075,\n",
       " 0.022357095032930374,\n",
       " 0.007223223336040974]"
      ]
     },
     "execution_count": 19,
     "metadata": {},
     "output_type": "execute_result"
    }
   ],
   "source": [
    "replay_sv"
   ]
  },
  {
   "cell_type": "code",
   "execution_count": null,
   "metadata": {},
   "outputs": [
    {
     "data": {
      "image/png": "[encoded data removed]",
      "text/plain": [
       "<Figure size 640x480 with 1 Axes>"
      ]
     },
     "metadata": {},
     "output_type": "display_data"
    }
   ],
   "source": [
    "plt.figure()\n",
    "plt.hist(replay_sv, bins=50)\n",
    "plt.show()"
   ]
  },
  {
   "cell_type": "code",
   "execution_count": null,
   "metadata": {},
   "outputs": [],
   "source": []
  }
 ],
 "metadata": {
  "kernelspec": {
   "display_name": "Python 3 (ipykernel)",
   "language": "python",
   "name": "python3"
  },
  "language_info": {
   "codemirror_mode": {
    "name": "ipython",
    "version": 3
   },
   "file_extension": ".py",
   "mimetype": "text/x-python",
   "name": "python",
   "nbconvert_exporter": "python",
   "pygments_lexer": "ipython3",
   "version": "3.10.11"
  },
  "orig_nbformat": 4
 },
 "nbformat": 4,
 "nbformat_minor": 2
}
