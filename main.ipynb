{
 "cells": [
  {
   "cell_type": "code",
   "execution_count": 34,
   "metadata": {},
   "outputs": [],
   "source": [
    "import torch\n",
    "import torch.nn as nn\n",
    "import torch.nn.functional as F\n",
    "import torch.optim as optim\n",
    "\n",
    "from torchvision.datasets import MNIST\n",
    "from torchvision.transforms import Compose, ToTensor, Normalize\n",
    "from torch.utils.data import random_split, DataLoader, TensorDataset\n",
    "\n",
    "from tqdm import trange\n",
    "\n",
    "import matplotlib.pyplot as plt"
   ]
  },
  {
   "cell_type": "code",
   "execution_count": 2,
   "metadata": {},
   "outputs": [],
   "source": [
    "MNIST_ROOT = \"/checkpoint/wesbz/Datasets\"\n",
    "device = \"cuda\" if torch.cuda.is_available() else \"cpu\"\n",
    "seed = 42\n",
    "batch_size = 128"
   ]
  },
  {
   "cell_type": "code",
   "execution_count": 3,
   "metadata": {},
   "outputs": [],
   "source": [
    "torch.manual_seed(seed)\n",
    "\n",
    "transform = Compose([\n",
    "    ToTensor(),\n",
    "    Normalize((0.1307,), (0.3081,))\n",
    "])\n",
    "\n",
    "mnist = MNIST(MNIST_ROOT, train=True, download=True, transform=transform)\n",
    "transform_loader = DataLoader(mnist, batch_size=60_000, shuffle=False)\n",
    "tfmd_data = next(iter(transform_loader))\n",
    "mnist_dataset = TensorDataset(tfmd_data[0].to(device), tfmd_data[1].to(device))\n",
    "\n",
    "train_loader = DataLoader(mnist_dataset, batch_size=batch_size, shuffle=True)\n",
    "\n",
    "mnist_test = MNIST(MNIST_ROOT, train=False, download=True, transform=transform)\n",
    "transform_loader = DataLoader(mnist_test, batch_size=10_000, shuffle=False)\n",
    "tfmd_data = next(iter(transform_loader))\n",
    "test_data = TensorDataset(tfmd_data[0].to(device), tfmd_data[1].to(device))\n",
    "test_loader = DataLoader(test_data, batch_size=batch_size, shuffle=False)"
   ]
  },
  {
   "cell_type": "code",
   "execution_count": 82,
   "metadata": {},
   "outputs": [
    {
     "data": {
      "text/plain": [
       "Sequential(\n",
       "  (0): Conv2d(1, 8, kernel_size=(5, 5), stride=(2, 2), padding=(1, 1))\n",
       "  (1): ReLU()\n",
       "  (2): Conv2d(8, 32, kernel_size=(5, 5), stride=(2, 2), padding=(1, 1))\n",
       "  (3): ReLU()\n",
       "  (4): Flatten(start_dim=1, end_dim=-1)\n",
       "  (5): Linear(in_features=1152, out_features=64, bias=True)\n",
       "  (6): ReLU()\n",
       "  (7): Linear(in_features=64, out_features=10, bias=True)\n",
       "  (8): ReLU()\n",
       "  (9): Linear(in_features=10, out_features=10, bias=True)\n",
       "  (10): ReLU()\n",
       "  (11): Linear(in_features=10, out_features=10, bias=True)\n",
       ")"
      ]
     },
     "execution_count": 82,
     "metadata": {},
     "output_type": "execute_result"
    }
   ],
   "source": [
    "n_h = 10\n",
    "torch.manual_seed(seed)\n",
    "model = nn.Sequential(\n",
    "    nn.Conv2d(in_channels=1, out_channels=8, kernel_size=5, stride=2, padding=1),\n",
    "    nn.ReLU(),\n",
    "    nn.Conv2d(in_channels=8, out_channels=32, kernel_size=5, stride=2, padding=1),\n",
    "    nn.ReLU(),\n",
    "    nn.Flatten(),\n",
    "    nn.Linear(in_features=1152, out_features=64),\n",
    "    nn.ReLU(),\n",
    "    nn.Linear(in_features=64, out_features=n_h),\n",
    "    nn.ReLU(),\n",
    "    nn.Linear(in_features=n_h, out_features=n_h),\n",
    "    nn.ReLU(),\n",
    "    nn.Linear(in_features=n_h, out_features=10)\n",
    ")\n",
    "\n",
    "model.to(device)"
   ]
  },
  {
   "cell_type": "code",
   "execution_count": 83,
   "metadata": {},
   "outputs": [],
   "source": [
    "lr = 1e-1\n",
    "epochs = 10\n",
    "# Training\n",
    "optimizer = optim.SGD(model.parameters(), lr=lr)\n",
    "criterion = nn.CrossEntropyLoss()\n",
    "scheduler = optim.lr_scheduler.LambdaLR(optimizer, lambda epoch: 1 / (epoch+1))\n",
    "scheduler = optim.lr_scheduler.LambdaLR(optimizer, lambda epoch: 0.95 ** epoch)\n",
    "\n",
    "hist_train_acc = []\n",
    "hist_train_loss = []"
   ]
  },
  {
   "cell_type": "code",
   "execution_count": 84,
   "metadata": {},
   "outputs": [
    {
     "name": "stderr",
     "output_type": "stream",
     "text": [
      "100%|█████████████████████████████████████████████████████████████████████████████████████████████████████████████████████████████████████████████████████████████████| 10/10 [00:09<00:00,  1.07it/s, train_acc=99.4]"
     ]
    },
    {
     "name": "stdout",
     "output_type": "stream",
     "text": [
      "Test accuracy: 98.57%\n"
     ]
    },
    {
     "name": "stderr",
     "output_type": "stream",
     "text": [
      "\n"
     ]
    }
   ],
   "source": [
    "with trange(epochs) as t:\n",
    "    for _ in t:\n",
    "\n",
    "        model.train()\n",
    "\n",
    "        train_loss = 0.0\n",
    "        correct = 0\n",
    "        total = 0\n",
    "\n",
    "        for X, y in train_loader:\n",
    "            X, y = X.to(device), y.to(device)\n",
    "\n",
    "            optimizer.zero_grad()\n",
    "\n",
    "            y_pred = model(X)\n",
    "            loss = criterion(y_pred, y)\n",
    "            loss.backward()\n",
    "            optimizer.step()\n",
    "\n",
    "            train_loss += loss.item()\n",
    "            _, predicted = y_pred.max(1)\n",
    "            total += y.size(0)\n",
    "            correct += predicted.eq(y).sum().item()\n",
    "\n",
    "        train_loss /= len(train_loader)\n",
    "\n",
    "        # print(f\"Train accuarcy: {100. * correct / total:.3f}%\")\n",
    "        train_acc = 100. * correct / total\n",
    "        hist_train_acc.append(100. * correct / total)\n",
    "        hist_train_loss.append(train_loss)\n",
    "\n",
    "        # scheduler.step()\n",
    "\n",
    "        t.set_postfix(train_acc=train_acc)\n",
    "\n",
    "test_loss = 0.0\n",
    "correct = 0\n",
    "total = 0\n",
    "\n",
    "model.eval()\n",
    "with torch.no_grad():\n",
    "    for X, y in test_loader:\n",
    "        X, y = X.to(device), y.to(device)\n",
    "\n",
    "        y_pred = model(X)\n",
    "        loss = criterion(y_pred, y)\n",
    "\n",
    "        test_loss += loss.item()\n",
    "        _, predicted = y_pred.max(1)\n",
    "        total += y.size(0)\n",
    "        correct += predicted.eq(y).sum().item()\n",
    "\n",
    "test_loss /= len(test_loader)\n",
    "\n",
    "print(f\"Test accuracy: {100. * correct / total}%\")"
   ]
  },
  {
   "cell_type": "code",
   "execution_count": 85,
   "metadata": {},
   "outputs": [],
   "source": [
    "model.eval()\n",
    "first_weights = model[-3].weight.detach().clone()"
   ]
  },
  {
   "cell_type": "code",
   "execution_count": 86,
   "metadata": {},
   "outputs": [
    {
     "name": "stdout",
     "output_type": "stream",
     "text": [
      "tensor([1.7460, 1.6991, 1.6425, 1.5064, 1.3509, 1.3034, 0.7694, 0.5875, 0.5087,\n",
      "        0.0463], device='cuda:0')\n",
      "tensor([-0.9332+0.2733j, -0.9332-0.2733j, -0.4511+0.8593j, -0.4511-0.8593j,\n",
      "         0.3514+0.5421j,  0.3514-0.5421j,  0.9671+0.4663j,  0.9671-0.4663j,\n",
      "         0.4458+0.0000j,  0.7205+0.0000j], device='cuda:0')\n"
     ]
    }
   ],
   "source": [
    "first_weights\n",
    "print(torch.linalg.svdvals(first_weights))\n",
    "print(torch.linalg.eigvals(first_weights))"
   ]
  },
  {
   "cell_type": "code",
   "execution_count": 87,
   "metadata": {},
   "outputs": [],
   "source": [
    "replay_test_acc = [correct/total]\n",
    "replay_test_loss = [test_loss]\n",
    "replay_mapping = [torch.eye(model[-3].out_features).to(device)]\n",
    "replay_weights = [model[-3].weight.detach().clone()]\n",
    "replay_biases = [model[-3].bias.detach().clone()]"
   ]
  },
  {
   "cell_type": "code",
   "execution_count": 88,
   "metadata": {},
   "outputs": [
    {
     "data": {
      "text/plain": [
       "tensor([[-0.0315, -0.3094, -0.2737,  0.1851, -0.2449,  0.8959, -0.1466, -0.1927,\n",
       "          0.1133,  0.7169],\n",
       "        [ 0.6349,  0.1106, -0.4322,  0.5786, -0.2478,  0.3383, -0.1918, -0.2834,\n",
       "          0.3390, -0.2870],\n",
       "        [ 0.9896, -0.3043,  0.1460, -0.0616,  0.3177, -0.4025,  0.0094,  0.4637,\n",
       "          0.3385, -0.3431],\n",
       "        [ 0.1934, -0.0995, -0.1706, -0.6455,  0.9671,  0.5929, -0.1448, -0.3296,\n",
       "         -0.4543,  0.0668],\n",
       "        [-0.2520,  0.0657, -0.1531, -0.0641, -0.0658, -0.1311,  0.2289, -0.0237,\n",
       "         -0.1089, -0.1345],\n",
       "        [ 0.2182,  0.2556,  0.6427,  0.5093, -0.5263,  0.3288, -0.1739, -0.2886,\n",
       "         -0.5837, -0.4848],\n",
       "        [ 0.2248, -0.1609,  0.0540, -0.0863, -0.2974,  0.3951,  0.2862, -0.0128,\n",
       "          0.3199, -0.1921],\n",
       "        [-0.4954,  0.2519, -0.1291,  0.7041,  0.8773,  0.0305,  0.1780,  0.3013,\n",
       "         -0.3212, -0.3831],\n",
       "        [-0.1888,  0.6484,  1.0864, -0.2049,  0.2334,  0.0074, -0.3088,  0.1202,\n",
       "          0.4198,  0.2137],\n",
       "        [-0.0285, -0.4973, -0.1124,  0.8296,  0.5420, -0.3333, -0.1832, -0.4820,\n",
       "          0.5663,  0.1846]], device='cuda:0')"
      ]
     },
     "execution_count": 88,
     "metadata": {},
     "output_type": "execute_result"
    }
   ],
   "source": [
    "model[-3].weight.detach().clone()"
   ]
  },
  {
   "cell_type": "code",
   "execution_count": 89,
   "metadata": {},
   "outputs": [
    {
     "data": {
      "text/plain": [
       "tensor([ 0.0943, -0.1901,  0.2863,  0.3579, -0.1977, -0.0988, -0.1218, -0.1435,\n",
       "         0.0492, -0.1203], device='cuda:0')"
      ]
     },
     "execution_count": 89,
     "metadata": {},
     "output_type": "execute_result"
    }
   ],
   "source": [
    "model[-3].bias.detach().clone()"
   ]
  },
  {
   "cell_type": "code",
   "execution_count": 90,
   "metadata": {},
   "outputs": [],
   "source": [
    "model[-3].reset_parameters()"
   ]
  },
  {
   "cell_type": "code",
   "execution_count": 91,
   "metadata": {},
   "outputs": [
    {
     "data": {
      "text/plain": [
       "tensor([[ 0.0714, -0.3099, -0.0642, -0.2907, -0.2174, -0.0111,  0.1494, -0.0595,\n",
       "          0.0120, -0.1349],\n",
       "        [-0.1634,  0.2674,  0.2087, -0.2946, -0.0709, -0.2641,  0.1734, -0.1396,\n",
       "          0.0088, -0.1854],\n",
       "        [-0.3116,  0.2372,  0.2961, -0.2403, -0.1915, -0.0315, -0.2839, -0.0068,\n",
       "          0.2739, -0.0754],\n",
       "        [-0.2841, -0.1478,  0.0945, -0.1471, -0.2066,  0.2255, -0.1416, -0.1839,\n",
       "         -0.2713,  0.1708],\n",
       "        [ 0.0696, -0.0984,  0.3069, -0.0195,  0.2658,  0.1345, -0.2497,  0.1985,\n",
       "         -0.2472,  0.0695],\n",
       "        [-0.2055,  0.2154,  0.2343,  0.1446, -0.1555, -0.2108,  0.1436, -0.0641,\n",
       "         -0.1457,  0.1916],\n",
       "        [-0.0563, -0.2230, -0.3018, -0.1688, -0.1709, -0.0643, -0.0121, -0.1188,\n",
       "          0.0772, -0.0910],\n",
       "        [ 0.0956,  0.2723, -0.1457, -0.2871,  0.3115, -0.1399,  0.0068,  0.0598,\n",
       "          0.0737, -0.1081],\n",
       "        [ 0.1920, -0.0025,  0.1251,  0.0915,  0.2567, -0.1081, -0.1991, -0.0919,\n",
       "          0.1579, -0.1374],\n",
       "        [ 0.1827,  0.2633, -0.1545,  0.1234,  0.0053, -0.3010,  0.0376,  0.2022,\n",
       "         -0.2896,  0.0136]], device='cuda:0')"
      ]
     },
     "execution_count": 91,
     "metadata": {},
     "output_type": "execute_result"
    }
   ],
   "source": [
    "model[-3].weight.detach().clone()"
   ]
  },
  {
   "cell_type": "code",
   "execution_count": 92,
   "metadata": {},
   "outputs": [
    {
     "data": {
      "text/plain": [
       "tensor([ 0.3085, -0.2347,  0.0393,  0.0140,  0.1546,  0.0604,  0.2939,  0.2517,\n",
       "         0.1726,  0.1063], device='cuda:0')"
      ]
     },
     "execution_count": 92,
     "metadata": {},
     "output_type": "execute_result"
    }
   ],
   "source": [
    "model[-3].bias.detach().clone()"
   ]
  },
  {
   "cell_type": "code",
   "execution_count": 78,
   "metadata": {},
   "outputs": [
    {
     "name": "stderr",
     "output_type": "stream",
     "text": [
      "100%|██████████████████████████████████████████████████████████████████████████████████████████████████████████████████████████████████████████████████████████████████| 10/10 [00:09<00:00,  1.06it/s, train_acc=100]\n"
     ]
    },
    {
     "name": "stdout",
     "output_type": "stream",
     "text": [
      "Test accuracy: 98.84%\n"
     ]
    },
    {
     "data": {
      "image/png": "[encoded data removed]",
      "text/plain": [
       "<Figure size 640x480 with 1 Axes>"
      ]
     },
     "metadata": {},
     "output_type": "display_data"
    },
    {
     "name": "stderr",
     "output_type": "stream",
     "text": [
      " 10%|█████████████████▊                                                                                                                                                                | 1/10 [00:10<01:35, 10.67s/it]"
     ]
    },
    {
     "name": "stdout",
     "output_type": "stream",
     "text": [
      "tensor([2.4471, 1.6975, 1.3394, 1.2395, 0.8802, 0.6430, 0.5278, 0.3690, 0.2542,\n",
      "        0.1130], device='cuda:0', grad_fn=<LinalgSvdBackward0>)\n",
      "tensor([ 0.7859+0.0000j,  0.5055+0.4168j,  0.5055-0.4168j, -0.4894+0.8252j,\n",
      "        -0.4894-0.8252j, -0.9552+0.2072j, -0.9552-0.2072j, -0.6198+0.0000j,\n",
      "         0.0195+0.3440j,  0.0195-0.3440j], device='cuda:0',\n",
      "       grad_fn=<LinalgEigBackward0>)\n"
     ]
    },
    {
     "name": "stderr",
     "output_type": "stream",
     "text": [
      "100%|██████████████████████████████████████████████████████████████████████████████████████████████████████████████████████████████████████████████████████████████████| 10/10 [00:10<00:00,  1.05s/it, train_acc=100]\n"
     ]
    },
    {
     "name": "stdout",
     "output_type": "stream",
     "text": [
      "Test accuracy: 98.96%\n"
     ]
    },
    {
     "data": {
      "image/png": "[encoded data removed]",
      "text/plain": [
       "<Figure size 640x480 with 1 Axes>"
      ]
     },
     "metadata": {},
     "output_type": "display_data"
    },
    {
     "name": "stderr",
     "output_type": "stream",
     "text": [
      " 20%|███████████████████████████████████▌                                                                                                                                              | 2/10 [00:22<01:30, 11.30s/it]"
     ]
    },
    {
     "name": "stdout",
     "output_type": "stream",
     "text": [
      "tensor([2.1817, 1.8167, 1.5297, 1.1273, 1.0835, 0.6347, 0.5948, 0.2239, 0.1350,\n",
      "        0.0265], device='cuda:0', grad_fn=<LinalgSvdBackward0>)\n",
      "tensor([ 0.9567+0.0000j, -0.0714+0.8515j, -0.0714-0.8515j, -0.9572+0.0000j,\n",
      "         0.1456+0.1722j,  0.1456-0.1722j, -0.3140+0.4673j, -0.3140-0.4673j,\n",
      "        -0.4052+0.2087j, -0.4052-0.2087j], device='cuda:0',\n",
      "       grad_fn=<LinalgEigBackward0>)\n"
     ]
    },
    {
     "name": "stderr",
     "output_type": "stream",
     "text": [
      "100%|██████████████████████████████████████████████████████████████████████████████████████████████████████████████████████████████████████████████████████████████████| 10/10 [00:09<00:00,  1.09it/s, train_acc=100]\n"
     ]
    },
    {
     "name": "stdout",
     "output_type": "stream",
     "text": [
      "Test accuracy: 98.77%\n"
     ]
    },
    {
     "data": {
      "image/png": "[encoded data removed]",
      "text/plain": [
       "<Figure size 640x480 with 1 Axes>"
      ]
     },
     "metadata": {},
     "output_type": "display_data"
    },
    {
     "name": "stderr",
     "output_type": "stream",
     "text": [
      " 30%|█████████████████████████████████████████████████████▍                                                                                                                            | 3/10 [00:32<01:16, 10.89s/it]"
     ]
    },
    {
     "name": "stdout",
     "output_type": "stream",
     "text": [
      "tensor([2.2529, 1.5892, 1.3164, 1.0094, 0.8829, 0.7916, 0.5158, 0.3305, 0.2789,\n",
      "        0.0223], device='cuda:0', grad_fn=<LinalgSvdBackward0>)\n",
      "tensor([-0.6291+0.4075j, -0.6291-0.4075j, -0.2596+0.7975j, -0.2596-0.7975j,\n",
      "         0.4235+0.7915j,  0.4235-0.7915j,  0.8619+0.3741j,  0.8619-0.3741j,\n",
      "         0.3616+0.0000j,  0.0347+0.0000j], device='cuda:0',\n",
      "       grad_fn=<LinalgEigBackward0>)\n"
     ]
    },
    {
     "name": "stderr",
     "output_type": "stream",
     "text": [
      "100%|██████████████████████████████████████████████████████████████████████████████████████████████████████████████████████████████████████████████████████████████████| 10/10 [00:09<00:00,  1.08it/s, train_acc=100]\n"
     ]
    },
    {
     "name": "stdout",
     "output_type": "stream",
     "text": [
      "Test accuracy: 98.87%\n"
     ]
    },
    {
     "data": {
      "image/png": "[encoded data removed]",
      "text/plain": [
       "<Figure size 640x480 with 1 Axes>"
      ]
     },
     "metadata": {},
     "output_type": "display_data"
    },
    {
     "name": "stderr",
     "output_type": "stream",
     "text": [
      " 40%|███████████████████████████████████████████████████████████████████████▏                                                                                                          | 4/10 [00:43<01:04, 10.73s/it]"
     ]
    },
    {
     "name": "stdout",
     "output_type": "stream",
     "text": [
      "tensor([1.5669, 1.3881, 1.3426, 1.0999, 1.0379, 0.6873, 0.5091, 0.3251, 0.1510,\n",
      "        0.0377], device='cuda:0', grad_fn=<LinalgSvdBackward0>)\n",
      "tensor([ 0.9031+0.0000j, -0.3224+0.8022j, -0.3224-0.8022j, -0.7216+0.5049j,\n",
      "        -0.7216-0.5049j,  0.4930+0.2198j,  0.4930-0.2198j,  0.0367+0.2562j,\n",
      "         0.0367-0.2562j, -0.2115+0.0000j], device='cuda:0',\n",
      "       grad_fn=<LinalgEigBackward0>)\n"
     ]
    },
    {
     "name": "stderr",
     "output_type": "stream",
     "text": [
      "100%|██████████████████████████████████████████████████████████████████████████████████████████████████████████████████████████████████████████████████████████████████| 10/10 [00:09<00:00,  1.09it/s, train_acc=100]\n"
     ]
    },
    {
     "name": "stdout",
     "output_type": "stream",
     "text": [
      "Test accuracy: 98.88%\n"
     ]
    },
    {
     "data": {
      "image/png": "[encoded data removed]",
      "text/plain": [
       "<Figure size 640x480 with 1 Axes>"
      ]
     },
     "metadata": {},
     "output_type": "display_data"
    },
    {
     "name": "stderr",
     "output_type": "stream",
     "text": [
      " 50%|█████████████████████████████████████████████████████████████████████████████████████████                                                                                         | 5/10 [00:53<00:53, 10.62s/it]"
     ]
    },
    {
     "name": "stdout",
     "output_type": "stream",
     "text": [
      "tensor([2.6629, 1.5661, 1.3195, 1.1229, 0.9792, 0.5443, 0.4550, 0.2681, 0.1873,\n",
      "        0.0353], device='cuda:0', grad_fn=<LinalgSvdBackward0>)\n",
      "tensor([-0.6348+0.8124j, -0.6348-0.8124j,  0.9108+0.0000j,  0.0917+0.7469j,\n",
      "         0.0917-0.7469j, -0.4906+0.0000j, -0.3608+0.4005j, -0.3608-0.4005j,\n",
      "         0.4247+0.0000j,  0.0800+0.0000j], device='cuda:0',\n",
      "       grad_fn=<LinalgEigBackward0>)\n"
     ]
    },
    {
     "name": "stderr",
     "output_type": "stream",
     "text": [
      "100%|██████████████████████████████████████████████████████████████████████████████████████████████████████████████████████████████████████████████████████████████████| 10/10 [00:09<00:00,  1.09it/s, train_acc=100]\n"
     ]
    },
    {
     "name": "stdout",
     "output_type": "stream",
     "text": [
      "Test accuracy: 98.71%\n"
     ]
    },
    {
     "data": {
      "image/png": "[encoded data removed]",
      "text/plain": [
       "<Figure size 640x480 with 1 Axes>"
      ]
     },
     "metadata": {},
     "output_type": "display_data"
    },
    {
     "name": "stderr",
     "output_type": "stream",
     "text": [
      " 60%|██████████████████████████████████████████████████████████████████████████████████████████████████████████▊                                                                       | 6/10 [01:04<00:42, 10.54s/it]"
     ]
    },
    {
     "name": "stdout",
     "output_type": "stream",
     "text": [
      "tensor([2.8022, 1.7287, 1.3121, 1.2647, 1.0965, 0.9624, 0.8448, 0.4805, 0.1110,\n",
      "        0.0207], device='cuda:0', grad_fn=<LinalgSvdBackward0>)\n",
      "tensor([ 0.8882+0.9513j,  0.8882-0.9513j, -1.0846+0.0000j, -0.5614+0.8419j,\n",
      "        -0.5614-0.8419j,  0.8136+0.0000j, -0.5100+0.3719j, -0.5100-0.3719j,\n",
      "         0.2724+0.0000j, -0.0476+0.0000j], device='cuda:0',\n",
      "       grad_fn=<LinalgEigBackward0>)\n"
     ]
    },
    {
     "name": "stderr",
     "output_type": "stream",
     "text": [
      "100%|██████████████████████████████████████████████████████████████████████████████████████████████████████████████████████████████████████████████████████████████████| 10/10 [00:09<00:00,  1.10it/s, train_acc=100]\n"
     ]
    },
    {
     "name": "stdout",
     "output_type": "stream",
     "text": [
      "Test accuracy: 98.73%\n"
     ]
    },
    {
     "data": {
      "image/png": "[encoded data removed]",
      "text/plain": [
       "<Figure size 640x480 with 1 Axes>"
      ]
     },
     "metadata": {},
     "output_type": "display_data"
    },
    {
     "name": "stderr",
     "output_type": "stream",
     "text": [
      " 70%|████████████████████████████████████████████████████████████████████████████████████████████████████████████████████████████▌                                                     | 7/10 [01:14<00:31, 10.48s/it]"
     ]
    },
    {
     "name": "stdout",
     "output_type": "stream",
     "text": [
      "tensor([2.0122, 1.5441, 1.3998, 0.9182, 0.8265, 0.6131, 0.4468, 0.3278, 0.2559,\n",
      "        0.0297], device='cuda:0', grad_fn=<LinalgSvdBackward0>)\n",
      "tensor([ 0.9083+0.0000j, -0.7627+0.8310j, -0.7627-0.8310j,  0.3305+0.0000j,\n",
      "         0.0633+0.4146j,  0.0633-0.4146j, -0.5249+0.4422j, -0.5249-0.4422j,\n",
      "        -0.1822+0.0000j, -0.3907+0.0000j], device='cuda:0',\n",
      "       grad_fn=<LinalgEigBackward0>)\n"
     ]
    },
    {
     "name": "stderr",
     "output_type": "stream",
     "text": [
      "100%|██████████████████████████████████████████████████████████████████████████████████████████████████████████████████████████████████████████████████████████████████| 10/10 [00:09<00:00,  1.09it/s, train_acc=100]\n"
     ]
    },
    {
     "name": "stdout",
     "output_type": "stream",
     "text": [
      "Test accuracy: 98.72%\n"
     ]
    },
    {
     "data": {
      "image/png": "[encoded data removed]",
      "text/plain": [
       "<Figure size 640x480 with 1 Axes>"
      ]
     },
     "metadata": {},
     "output_type": "display_data"
    },
    {
     "name": "stderr",
     "output_type": "stream",
     "text": [
      " 80%|██████████████████████████████████████████████████████████████████████████████████████████████████████████████████████████████████████████████▍                                   | 8/10 [01:25<00:21, 10.52s/it]"
     ]
    },
    {
     "name": "stdout",
     "output_type": "stream",
     "text": [
      "tensor([2.3014, 1.6571, 1.4016, 1.1348, 1.0926, 0.7895, 0.4726, 0.3605, 0.1182,\n",
      "        0.0057], device='cuda:0', grad_fn=<LinalgSvdBackward0>)\n",
      "tensor([-1.0764+0.0000j,  0.7029+0.1792j,  0.7029-0.1792j, -0.2029+0.7695j,\n",
      "        -0.2029-0.7695j, -0.4268+0.5217j, -0.4268-0.5217j,  0.0677+0.0000j,\n",
      "        -0.1939+0.1312j, -0.1939-0.1312j], device='cuda:0',\n",
      "       grad_fn=<LinalgEigBackward0>)\n"
     ]
    },
    {
     "name": "stderr",
     "output_type": "stream",
     "text": [
      "100%|██████████████████████████████████████████████████████████████████████████████████████████████████████████████████████████████████████████████████████████████████| 10/10 [00:09<00:00,  1.05it/s, train_acc=100]\n"
     ]
    },
    {
     "name": "stdout",
     "output_type": "stream",
     "text": [
      "Test accuracy: 98.7%\n"
     ]
    },
    {
     "data": {
      "image/png": "[encoded data removed]",
      "text/plain": [
       "<Figure size 640x480 with 1 Axes>"
      ]
     },
     "metadata": {},
     "output_type": "display_data"
    },
    {
     "name": "stderr",
     "output_type": "stream",
     "text": [
      " 90%|████████████████████████████████████████████████████████████████████████████████████████████████████████████████████████████████████████████████████████████████▏                 | 9/10 [01:35<00:10, 10.58s/it]"
     ]
    },
    {
     "name": "stdout",
     "output_type": "stream",
     "text": [
      "tensor([2.2458, 1.6765, 1.5132, 1.1446, 0.8901, 0.7343, 0.5721, 0.3543, 0.1045,\n",
      "        0.0031], device='cuda:0', grad_fn=<LinalgSvdBackward0>)\n",
      "tensor([-0.9980+0.4732j, -0.9980-0.4732j, -0.4705+0.4602j, -0.4705-0.4602j,\n",
      "         1.0378+0.0000j,  0.2800+0.5872j,  0.2800-0.5872j,  0.5622+0.0000j,\n",
      "        -0.0072+0.0000j,  0.2985+0.0000j], device='cuda:0',\n",
      "       grad_fn=<LinalgEigBackward0>)\n"
     ]
    },
    {
     "name": "stderr",
     "output_type": "stream",
     "text": [
      "100%|██████████████████████████████████████████████████████████████████████████████████████████████████████████████████████████████████████████████████████████████████| 10/10 [00:09<00:00,  1.06it/s, train_acc=100]\n"
     ]
    },
    {
     "name": "stdout",
     "output_type": "stream",
     "text": [
      "Test accuracy: 98.6%\n"
     ]
    },
    {
     "data": {
      "image/png": "[encoded data removed]",
      "text/plain": [
       "<Figure size 640x480 with 1 Axes>"
      ]
     },
     "metadata": {},
     "output_type": "display_data"
    },
    {
     "name": "stderr",
     "output_type": "stream",
     "text": [
      "100%|█████████████████████████████████████████████████████████████████████████████████████████████████████████████████████████████████████████████████████████████████████████████████| 10/10 [01:46<00:00, 10.66s/it]"
     ]
    },
    {
     "name": "stdout",
     "output_type": "stream",
     "text": [
      "tensor([1.9250, 1.5065, 1.3090, 1.2441, 0.7651, 0.6403, 0.4868, 0.3697, 0.1453,\n",
      "        0.0842], device='cuda:0', grad_fn=<LinalgSvdBackward0>)\n",
      "tensor([-0.3650+0.9825j, -0.3650-0.9825j,  0.9331+0.0000j,  0.7523+0.0000j,\n",
      "        -0.6634+0.4809j, -0.6634-0.4809j, -0.5317+0.0000j, -0.1283+0.3057j,\n",
      "        -0.1283-0.3057j,  0.1684+0.0000j], device='cuda:0',\n",
      "       grad_fn=<LinalgEigBackward0>)\n"
     ]
    },
    {
     "name": "stderr",
     "output_type": "stream",
     "text": [
      "\n"
     ]
    }
   ],
   "source": [
    "torch.seed()\n",
    "for replay in trange(10):\n",
    "    model[-3].reset_parameters()\n",
    "    with trange(epochs) as t:\n",
    "        for _ in t:\n",
    "\n",
    "            model[-3].train()\n",
    "\n",
    "            train_loss = 0.0\n",
    "            correct = 0\n",
    "            total = 0\n",
    "\n",
    "            for X, y in train_loader:\n",
    "                X, y = X.to(device), y.to(device)\n",
    "\n",
    "                optimizer.zero_grad()\n",
    "\n",
    "                y_pred = model(X)\n",
    "                loss = criterion(y_pred, y)\n",
    "                loss.backward()\n",
    "                optimizer.step()\n",
    "\n",
    "                train_loss += loss.item()\n",
    "                _, predicted = y_pred.max(1)\n",
    "                total += y.size(0)\n",
    "                correct += predicted.eq(y).sum().item()\n",
    "\n",
    "            train_loss /= len(train_loader)\n",
    "\n",
    "            # print(f\"Train accuarcy: {100. * correct / total:.3f}%\")\n",
    "            train_acc = 100. * correct / total\n",
    "            hist_train_acc.append(100. * correct / total)\n",
    "            hist_train_loss.append(train_loss)\n",
    "\n",
    "            # scheduler.step()\n",
    "\n",
    "            t.set_postfix(train_acc=train_acc)\n",
    "\n",
    "    test_loss = 0.0\n",
    "    correct = 0\n",
    "    total = 0\n",
    "\n",
    "    model.eval()\n",
    "    with torch.no_grad():\n",
    "        for X, y in test_loader:\n",
    "            X, y = X.to(device), y.to(device)\n",
    "\n",
    "            y_pred = model(X)\n",
    "            loss = criterion(y_pred, y)\n",
    "\n",
    "            test_loss += loss.item()\n",
    "            _, predicted = y_pred.max(1)\n",
    "            total += y.size(0)\n",
    "            correct += predicted.eq(y).sum().item()\n",
    "\n",
    "    test_loss /= len(test_loader)\n",
    "\n",
    "    print(f\"Test accuracy: {100. * correct / total}%\")\n",
    "\n",
    "    replay_test_acc.append(correct/total)\n",
    "    replay_test_loss.append(test_loss)\n",
    "    replay_weights.append(model[-3].weight.detach().clone())\n",
    "    replay_biases.append(model[-3].bias.detach().clone())\n",
    "\n",
    "    # Get the mapping\n",
    "    A = torch.rand(model[-3].out_features, model[-3].out_features).to(device)\n",
    "    A.requires_grad = True\n",
    "    map_optimizer = optim.SGD([A], lr=1e-1)\n",
    "    hist_map_loss = []\n",
    "    for _ in range(3_000):\n",
    "        map_optimizer.zero_grad()\n",
    "        loss = torch.norm(A @ model[-3].weight - first_weights)**2\n",
    "        loss.backward()\n",
    "        hist_map_loss.append(loss.item())\n",
    "        map_optimizer.step()\n",
    "    plt.figure()\n",
    "    plt.plot(hist_map_loss)\n",
    "    plt.yscale(\"log\")\n",
    "    plt.show(block=False)\n",
    "    print(torch.linalg.svdvals(model[-3].weight))\n",
    "    print(torch.linalg.eigvals(model[-3].weight))\n",
    "    replay_mapping.append(A)\n"
   ]
  },
  {
   "cell_type": "code",
   "execution_count": 74,
   "metadata": {},
   "outputs": [
    {
     "data": {
      "text/plain": [
       "[tensor([[1., 0., 0., 0., 0., 0., 0., 0., 0., 0.],\n",
       "         [0., 1., 0., 0., 0., 0., 0., 0., 0., 0.],\n",
       "         [0., 0., 1., 0., 0., 0., 0., 0., 0., 0.],\n",
       "         [0., 0., 0., 1., 0., 0., 0., 0., 0., 0.],\n",
       "         [0., 0., 0., 0., 1., 0., 0., 0., 0., 0.],\n",
       "         [0., 0., 0., 0., 0., 1., 0., 0., 0., 0.],\n",
       "         [0., 0., 0., 0., 0., 0., 1., 0., 0., 0.],\n",
       "         [0., 0., 0., 0., 0., 0., 0., 1., 0., 0.],\n",
       "         [0., 0., 0., 0., 0., 0., 0., 0., 1., 0.],\n",
       "         [0., 0., 0., 0., 0., 0., 0., 0., 0., 1.]], device='cuda:0'),\n",
       " tensor([[ 0.7541, -0.1792, -0.1250, -0.0913,  0.3609, -0.7529, -0.1746, -0.1677,\n",
       "          -0.2402,  0.2257],\n",
       "         [ 1.4800, -0.0420,  0.2209, -0.7474, -0.9640, -0.0303, -0.7661,  1.0093,\n",
       "           0.7424,  0.1534],\n",
       "         [ 0.4603, -0.6316,  0.9521, -0.7408, -0.8412,  0.1639, -0.2149,  0.9622,\n",
       "           0.6412,  0.0441],\n",
       "         [ 0.3977, -0.8158,  0.3448,  0.7715, -0.1444, -0.0415, -0.5348,  0.4325,\n",
       "           0.1793,  0.0060],\n",
       "         [-0.1398, -0.0471, -0.1461,  0.6644,  0.1795,  1.4764,  0.3099, -0.3429,\n",
       "          -0.0330,  0.3357],\n",
       "         [ 1.3867,  0.2014, -0.3281, -1.0320,  0.9853,  0.3402, -1.7348,  1.9138,\n",
       "           1.0145, -1.1538],\n",
       "         [ 1.3264, -0.7540,  0.1107, -0.1943, -0.1425,  1.5693, -0.2141,  0.5753,\n",
       "           0.6396,  0.2172],\n",
       "         [-0.6771,  0.3229, -0.0620,  1.1278, -0.4312,  1.1311,  1.1984,  0.1001,\n",
       "           0.0256,  0.8900],\n",
       "         [ 1.5542, -1.2794, -0.1919, -0.8899, -0.4042,  0.6364, -1.2002,  1.4028,\n",
       "           2.2602, -0.0181],\n",
       "         [ 0.4686, -0.2567,  0.0474, -0.3608, -0.1998,  0.4513, -0.9431,  0.5361,\n",
       "           0.4526,  1.1641]], device='cuda:0', requires_grad=True),\n",
       " tensor([[ 2.1077,  2.3880, -0.5391,  0.4343, -4.9781, -0.4145,  1.1414,  0.4637,\n",
       "          -1.2532, -0.4255],\n",
       "         [-0.6570, -0.5323,  1.2723,  0.2111, -0.4792,  1.5094,  1.5169, -1.2829,\n",
       "          -1.5647,  1.5948],\n",
       "         [-0.4609, -1.1265,  1.2722,  0.0755,  0.9994, -0.3630, -0.5308, -0.3067,\n",
       "           0.0371, -0.0678],\n",
       "         [ 0.4926,  1.7591,  0.0354,  1.2728, -2.2401,  0.2457,  0.2994,  0.4739,\n",
       "          -0.4107, -0.0638],\n",
       "         [-0.0895, -0.1905, -0.3391, -0.2015,  1.0953, -0.0981, -0.5640,  0.3673,\n",
       "           0.4378, -0.3108],\n",
       "         [-3.3837, -0.3580,  1.3224,  0.2853,  4.5887,  2.8824,  2.3977, -2.3571,\n",
       "          -0.1230,  3.7315],\n",
       "         [ 0.9891, -0.3765,  0.2082, -0.0195,  0.7065, -0.6882, -0.8376,  0.1956,\n",
       "           0.2991, -0.6692],\n",
       "         [-1.5401, -0.1541,  0.3275,  0.2678,  1.7096,  1.0081,  1.3975,  0.5398,\n",
       "           0.1711,  1.3297],\n",
       "         [ 0.3979, -0.2852,  0.1340,  0.1729,  0.2494, -0.3014, -0.3626,  0.1494,\n",
       "           1.3731, -0.1978],\n",
       "         [ 0.9637, -0.4494,  0.0471,  0.0287, -2.2693, -0.5714, -0.1730,  0.3214,\n",
       "          -0.9403,  0.4198]], device='cuda:0', requires_grad=True),\n",
       " tensor([[ 3.7691e-01, -3.0585e-01, -9.0459e-01, -5.8884e-02,  1.3117e+00,\n",
       "          -1.5734e-01, -8.9561e-01, -1.0508e+00, -6.8900e-01, -2.2725e+00],\n",
       "         [-1.3545e+00, -5.1834e-02, -3.9353e-01, -1.0603e+00,  1.7136e+00,\n",
       "           1.6983e+00, -5.0355e-01,  6.6889e-01, -7.2284e-01,  6.3554e-02],\n",
       "         [ 1.3933e+00, -1.5656e+00,  2.0683e+00,  5.3416e-01, -1.7227e+00,\n",
       "           3.2173e-01,  2.8136e-02, -1.8131e-03,  1.9432e-01,  2.9124e+00],\n",
       "         [ 7.1376e-01, -8.3927e-01, -7.2030e-02,  1.5183e+00, -3.9098e-01,\n",
       "          -4.2729e-01, -1.1547e+00, -1.0143e+00, -2.8779e-01, -1.2241e+00],\n",
       "         [-7.7564e-02,  3.7100e-01, -5.0264e-02,  1.1447e-01, -3.9150e-01,\n",
       "          -7.7663e-02,  5.6380e-01,  3.3646e-01,  3.0393e-02,  4.7410e-01],\n",
       "         [-2.2304e+00, -9.2796e-01, -5.1430e-01, -1.5388e+00,  2.1571e+00,\n",
       "           1.7841e+00, -8.0913e-01,  7.6431e-01, -1.3341e-02,  2.6704e+00],\n",
       "         [-2.7690e-01,  1.2908e-01,  5.5168e-01, -2.1055e-01,  7.0945e-01,\n",
       "           4.7418e-01,  4.0049e-01,  3.4648e-01, -2.7194e-01,  1.5910e+00],\n",
       "         [ 2.2057e-01, -5.5286e-01, -6.0152e-01,  6.6703e-01, -1.3135e+00,\n",
       "          -4.8889e-01,  1.5586e+00,  1.3016e+00,  1.3305e-01, -1.1254e-01],\n",
       "         [-3.0543e-01,  5.9466e-01, -2.1481e-01, -1.2473e-01,  7.7748e-01,\n",
       "          -5.5321e-01, -8.6599e-02, -1.6241e-01,  1.1959e+00, -1.6260e+00],\n",
       "         [ 1.3225e+00, -1.6110e-01,  2.2506e-01, -6.1421e-02, -4.0233e-01,\n",
       "          -2.9310e-02, -5.6924e-01,  5.0892e-01, -2.0680e-01, -2.8607e-01]],\n",
       "        device='cuda:0', requires_grad=True)]"
      ]
     },
     "execution_count": 74,
     "metadata": {},
     "output_type": "execute_result"
    }
   ],
   "source": [
    "replay_mapping"
   ]
  },
  {
   "cell_type": "code",
   "execution_count": 63,
   "metadata": {},
   "outputs": [],
   "source": [
    "U, S, V = torch.linalg.svd(model[-3].weight)"
   ]
  },
  {
   "cell_type": "code",
   "execution_count": 64,
   "metadata": {},
   "outputs": [
    {
     "data": {
      "text/plain": [
       "tensor([2.9635, 1.9138, 1.1039, 0.0032], device='cuda:0',\n",
       "       grad_fn=<LinalgSvdBackward0>)"
      ]
     },
     "execution_count": 64,
     "metadata": {},
     "output_type": "execute_result"
    }
   ],
   "source": [
    "S"
   ]
  },
  {
   "cell_type": "code",
   "execution_count": null,
   "metadata": {},
   "outputs": [],
   "source": []
  }
 ],
 "metadata": {
  "kernelspec": {
   "display_name": "Python 3 (ipykernel)",
   "language": "python",
   "name": "python3"
  },
  "orig_nbformat": 4
 },
 "nbformat": 4,
 "nbformat_minor": 2
}
