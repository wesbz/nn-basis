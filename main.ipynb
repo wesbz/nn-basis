{
 "cells": [
  {
   "cell_type": "code",
   "execution_count": 1,
   "metadata": {},
   "outputs": [],
   "source": [
    "import torch\n",
    "import torch.nn as nn\n",
    "import torch.nn.functional as F\n",
    "import torch.optim as optim\n",
    "\n",
    "from torchvision.datasets import MNIST\n",
    "from torchvision.transforms import Compose, ToTensor, Normalize\n",
    "from torch.utils.data import random_split, DataLoader, TensorDataset\n",
    "\n",
    "from tqdm import trange\n",
    "\n",
    "import matplotlib.pyplot as plt"
   ]
  },
  {
   "cell_type": "code",
   "execution_count": 2,
   "metadata": {},
   "outputs": [],
   "source": [
    "MNIST_ROOT = \"/checkpoint/wesbz/Datasets\"\n",
    "device = \"cuda\" if torch.cuda.is_available() else \"cpu\"\n",
    "seed = 42\n",
    "batch_size = 128"
   ]
  },
  {
   "cell_type": "code",
   "execution_count": 3,
   "metadata": {},
   "outputs": [],
   "source": [
    "torch.manual_seed(seed)\n",
    "\n",
    "transform = Compose([\n",
    "    ToTensor(),\n",
    "    Normalize((0.1307,), (0.3081,))\n",
    "])\n",
    "\n",
    "mnist = MNIST(MNIST_ROOT, train=True, download=True, transform=transform)\n",
    "transform_loader = DataLoader(mnist, batch_size=60_000, shuffle=True)\n",
    "tfmd_data = next(iter(transform_loader))\n",
    "mnist_dataset = TensorDataset(tfmd_data[0].to(device), tfmd_data[1].to(device))\n",
    "\n",
    "train_loader = DataLoader(mnist_dataset, batch_size=batch_size, shuffle=False)\n",
    "\n",
    "mnist_test = MNIST(MNIST_ROOT, train=False, download=True, transform=transform)\n",
    "transform_loader = DataLoader(mnist_test, batch_size=10_000, shuffle=False)\n",
    "tfmd_data = next(iter(transform_loader))\n",
    "test_data = TensorDataset(tfmd_data[0].to(device), tfmd_data[1].to(device))\n",
    "test_loader = DataLoader(test_data, batch_size=batch_size, shuffle=False)"
   ]
  },
  {
   "cell_type": "code",
   "execution_count": 4,
   "metadata": {},
   "outputs": [
    {
     "data": {
      "text/plain": [
       "Sequential(\n",
       "  (0): Conv2d(1, 8, kernel_size=(5, 5), stride=(2, 2), padding=(1, 1))\n",
       "  (1): ReLU()\n",
       "  (2): Conv2d(8, 32, kernel_size=(5, 5), stride=(2, 2), padding=(1, 1))\n",
       "  (3): ReLU()\n",
       "  (4): Flatten(start_dim=1, end_dim=-1)\n",
       "  (5): Linear(in_features=1152, out_features=64, bias=True)\n",
       "  (6): ReLU()\n",
       "  (7): Linear(in_features=64, out_features=10, bias=True)\n",
       "  (8): ReLU()\n",
       "  (9): Linear(in_features=10, out_features=10, bias=True)\n",
       "  (10): ReLU()\n",
       "  (11): Linear(in_features=10, out_features=10, bias=True)\n",
       ")"
      ]
     },
     "execution_count": 4,
     "metadata": {},
     "output_type": "execute_result"
    }
   ],
   "source": [
    "n_h = 10\n",
    "torch.manual_seed(seed)\n",
    "model = nn.Sequential(\n",
    "    nn.Conv2d(in_channels=1, out_channels=8, kernel_size=5, stride=2, padding=1),\n",
    "    nn.ReLU(),\n",
    "    nn.Conv2d(in_channels=8, out_channels=32, kernel_size=5, stride=2, padding=1),\n",
    "    nn.ReLU(),\n",
    "    nn.Flatten(),\n",
    "    nn.Linear(in_features=1152, out_features=64),\n",
    "    nn.ReLU(),\n",
    "    nn.Linear(in_features=64, out_features=n_h),\n",
    "    nn.ReLU(),\n",
    "    nn.Linear(in_features=n_h, out_features=n_h),\n",
    "    nn.ReLU(),\n",
    "    nn.Linear(in_features=n_h, out_features=10)\n",
    ")\n",
    "\n",
    "model.to(device)"
   ]
  },
  {
   "cell_type": "code",
   "execution_count": 5,
   "metadata": {},
   "outputs": [],
   "source": [
    "lr = 1e-1\n",
    "epochs = 10\n",
    "# Training\n",
    "optimizer = optim.SGD(model.parameters(), lr=lr, weight_decay=1e-3)\n",
    "criterion = nn.CrossEntropyLoss()\n",
    "scheduler = optim.lr_scheduler.LambdaLR(optimizer, lambda epoch: 1 / (epoch+1))\n",
    "scheduler = optim.lr_scheduler.LambdaLR(optimizer, lambda epoch: 0.95 ** epoch)\n",
    "\n",
    "hist_train_acc = []\n",
    "hist_train_loss = []"
   ]
  },
  {
   "cell_type": "code",
   "execution_count": 6,
   "metadata": {},
   "outputs": [
    {
     "name": "stderr",
     "output_type": "stream",
     "text": [
      "100%|█████████████████████████████████████████████████████████████████████████████████████████████████████████████████████████████████████████████████████████████████| 10/10 [00:10<00:00,  1.07s/it, train_acc=99.4]"
     ]
    },
    {
     "name": "stdout",
     "output_type": "stream",
     "text": [
      "Test accuracy: 97.95%\n"
     ]
    },
    {
     "name": "stderr",
     "output_type": "stream",
     "text": [
      "\n"
     ]
    }
   ],
   "source": [
    "with trange(epochs) as t:\n",
    "    for _ in t:\n",
    "\n",
    "        model.train()\n",
    "\n",
    "        train_loss = 0.0\n",
    "        correct = 0\n",
    "        total = 0\n",
    "\n",
    "        for X, y in train_loader:\n",
    "            X, y = X.to(device), y.to(device)\n",
    "\n",
    "            optimizer.zero_grad()\n",
    "\n",
    "            y_pred = model(X)\n",
    "            loss = criterion(y_pred, y)\n",
    "            loss.backward()\n",
    "            optimizer.step()\n",
    "\n",
    "            train_loss += loss.item()\n",
    "            _, predicted = y_pred.max(1)\n",
    "            total += y.size(0)\n",
    "            correct += predicted.eq(y).sum().item()\n",
    "\n",
    "        train_loss /= len(train_loader)\n",
    "\n",
    "        # print(f\"Train accuarcy: {100. * correct / total:.3f}%\")\n",
    "        train_acc = 100. * correct / total\n",
    "        hist_train_acc.append(100. * correct / total)\n",
    "        hist_train_loss.append(train_loss)\n",
    "\n",
    "        # scheduler.step()\n",
    "\n",
    "        t.set_postfix(train_acc=train_acc)\n",
    "\n",
    "test_loss = 0.0\n",
    "correct = 0\n",
    "total = 0\n",
    "\n",
    "model.eval()\n",
    "with torch.no_grad():\n",
    "    for X, y in test_loader:\n",
    "        X, y = X.to(device), y.to(device)\n",
    "\n",
    "        y_pred = model(X)\n",
    "        loss = criterion(y_pred, y)\n",
    "\n",
    "        test_loss += loss.item()\n",
    "        _, predicted = y_pred.max(1)\n",
    "        total += y.size(0)\n",
    "        correct += predicted.eq(y).sum().item()\n",
    "\n",
    "test_loss /= len(test_loader)\n",
    "\n",
    "print(f\"Test accuracy: {100. * correct / total}%\")"
   ]
  },
  {
   "cell_type": "code",
   "execution_count": 7,
   "metadata": {},
   "outputs": [],
   "source": [
    "model.eval()\n",
    "first_weights = model[-3].weight.detach().clone()"
   ]
  },
  {
   "cell_type": "code",
   "execution_count": 8,
   "metadata": {},
   "outputs": [
    {
     "name": "stdout",
     "output_type": "stream",
     "text": [
      "tensor([1.5802, 1.5384, 1.3941, 1.2768, 1.2389, 1.2019, 0.7125, 0.3113, 0.2441,\n",
      "        0.0885], device='cuda:0')\n",
      "tensor([-0.8689+0.4442j, -0.8689-0.4442j,  0.2023+0.8579j,  0.2023-0.8579j,\n",
      "         0.8962+0.2945j,  0.8962-0.2945j,  0.2415+0.5502j,  0.2415-0.5502j,\n",
      "         0.2690+0.0000j,  0.4826+0.0000j], device='cuda:0')\n"
     ]
    }
   ],
   "source": [
    "first_weights\n",
    "print(torch.linalg.svdvals(first_weights))\n",
    "print(torch.linalg.eigvals(first_weights))"
   ]
  },
  {
   "cell_type": "code",
   "execution_count": 12,
   "metadata": {},
   "outputs": [],
   "source": [
    "replay_test_acc = [correct/total]\n",
    "replay_test_loss = [test_loss]\n",
    "replay_mapping = [torch.eye(model[-3].out_features).to(device)]\n",
    "replay_weights = [model[-3].weight.detach().clone()]\n",
    "replay_biases = [model[-3].bias.detach().clone()]\n",
    "replay_sv = torch.linalg.svdvals(replay_weights[-1]).tolist()\n",
    "sv = (torch.linalg.svdvals(replay_weights[-1]) / sum(torch.linalg.svdvals(replay_weights[-1]))).tolist()\n",
    "replay_sv_norm = sv"
   ]
  },
  {
   "cell_type": "code",
   "execution_count": 13,
   "metadata": {},
   "outputs": [
    {
     "data": {
      "text/plain": [
       "tensor([[ 0.3743, -0.2461, -0.1864,  0.1758, -0.4837,  0.4337, -0.0908, -0.1938,\n",
       "          0.0775,  0.9101],\n",
       "        [ 0.3518, -0.0815, -0.3007,  0.3127, -0.2790,  0.4332, -0.1184, -0.1155,\n",
       "          0.4336, -0.2475],\n",
       "        [ 1.0712, -0.0640,  0.1160,  0.2668,  0.5798, -0.4237,  0.0072,  0.3260,\n",
       "         -0.1637, -0.2280],\n",
       "        [-0.1538, -0.0868, -0.3222, -0.3777,  0.7767,  0.9326, -0.0938, -0.2092,\n",
       "         -0.0516, -0.0420],\n",
       "        [-0.1577,  0.0411, -0.0958, -0.0401, -0.0412, -0.0820,  0.1432, -0.0148,\n",
       "         -0.0681, -0.0842],\n",
       "        [-0.1036,  0.2730,  0.4779,  0.6372, -0.2269,  0.4858, -0.1090, -0.0795,\n",
       "         -0.4438, -0.5793],\n",
       "        [-0.0483, -0.1125,  0.0021, -0.0550, -0.0407,  0.1737,  0.1795, -0.0899,\n",
       "          0.0900, -0.1341],\n",
       "        [-0.2219, -0.0406, -0.2418,  0.5894,  0.2060, -0.0884,  0.1106,  0.1668,\n",
       "          0.0263, -0.3220],\n",
       "        [-0.1068,  0.5559,  0.9492, -0.1595,  0.1799,  0.2320, -0.1934,  0.0832,\n",
       "          0.5188,  0.1459],\n",
       "        [-0.2701, -0.3986, -0.1699,  0.8153,  0.6509, -0.2705, -0.1143, -0.3339,\n",
       "          0.4149,  0.3531]], device='cuda:0')"
      ]
     },
     "execution_count": 13,
     "metadata": {},
     "output_type": "execute_result"
    }
   ],
   "source": [
    "model[-3].weight.detach().clone()"
   ]
  },
  {
   "cell_type": "code",
   "execution_count": 14,
   "metadata": {},
   "outputs": [
    {
     "data": {
      "text/plain": [
       "tensor([ 0.0602, -0.1610,  0.2251,  0.2394, -0.1237, -0.0541, -0.0766, -0.0710,\n",
       "         0.0754, -0.0285], device='cuda:0')"
      ]
     },
     "execution_count": 14,
     "metadata": {},
     "output_type": "execute_result"
    }
   ],
   "source": [
    "model[-3].bias.detach().clone()"
   ]
  },
  {
   "cell_type": "code",
   "execution_count": 15,
   "metadata": {},
   "outputs": [],
   "source": [
    "model[-3].reset_parameters()"
   ]
  },
  {
   "cell_type": "code",
   "execution_count": 16,
   "metadata": {},
   "outputs": [
    {
     "data": {
      "text/plain": [
       "tensor([[ 0.0714, -0.3099, -0.0642, -0.2907, -0.2174, -0.0111,  0.1494, -0.0595,\n",
       "          0.0120, -0.1349],\n",
       "        [-0.1634,  0.2674,  0.2087, -0.2946, -0.0709, -0.2641,  0.1734, -0.1396,\n",
       "          0.0088, -0.1854],\n",
       "        [-0.3116,  0.2372,  0.2961, -0.2403, -0.1915, -0.0315, -0.2839, -0.0068,\n",
       "          0.2739, -0.0754],\n",
       "        [-0.2841, -0.1478,  0.0945, -0.1471, -0.2066,  0.2255, -0.1416, -0.1839,\n",
       "         -0.2713,  0.1708],\n",
       "        [ 0.0696, -0.0984,  0.3069, -0.0195,  0.2658,  0.1345, -0.2497,  0.1985,\n",
       "         -0.2472,  0.0695],\n",
       "        [-0.2055,  0.2154,  0.2343,  0.1446, -0.1555, -0.2108,  0.1436, -0.0641,\n",
       "         -0.1457,  0.1916],\n",
       "        [-0.0563, -0.2230, -0.3018, -0.1688, -0.1709, -0.0643, -0.0121, -0.1188,\n",
       "          0.0772, -0.0910],\n",
       "        [ 0.0956,  0.2723, -0.1457, -0.2871,  0.3115, -0.1399,  0.0068,  0.0598,\n",
       "          0.0737, -0.1081],\n",
       "        [ 0.1920, -0.0025,  0.1251,  0.0915,  0.2567, -0.1081, -0.1991, -0.0919,\n",
       "          0.1579, -0.1374],\n",
       "        [ 0.1827,  0.2633, -0.1545,  0.1234,  0.0053, -0.3010,  0.0376,  0.2022,\n",
       "         -0.2896,  0.0136]], device='cuda:0')"
      ]
     },
     "execution_count": 16,
     "metadata": {},
     "output_type": "execute_result"
    }
   ],
   "source": [
    "model[-3].weight.detach().clone()"
   ]
  },
  {
   "cell_type": "code",
   "execution_count": 17,
   "metadata": {},
   "outputs": [
    {
     "data": {
      "text/plain": [
       "tensor([ 0.3085, -0.2347,  0.0393,  0.0140,  0.1546,  0.0604,  0.2939,  0.2517,\n",
       "         0.1726,  0.1063], device='cuda:0')"
      ]
     },
     "execution_count": 17,
     "metadata": {},
     "output_type": "execute_result"
    }
   ],
   "source": [
    "model[-3].bias.detach().clone()"
   ]
  },
  {
   "cell_type": "code",
   "execution_count": 18,
   "metadata": {},
   "outputs": [
    {
     "name": "stderr",
     "output_type": "stream",
     "text": [
      "100%|█████████████████████████████████████████████████████████████████████████████████████████████████████████████████████████████████████████████████████████████████| 10/10 [00:09<00:00,  1.03it/s, train_acc=99.8]\n"
     ]
    },
    {
     "name": "stdout",
     "output_type": "stream",
     "text": [
      "Test accuracy: 98.14%\n"
     ]
    },
    {
     "data": {
      "image/png": "[encoded data removed]",
      "text/plain": [
       "<Figure size 640x480 with 1 Axes>"
      ]
     },
     "metadata": {},
     "output_type": "display_data"
    },
    {
     "name": "stderr",
     "output_type": "stream",
     "text": [
      " 10%|█████████████████▊                                                                                                                                                                | 1/10 [00:11<01:40, 11.15s/it]"
     ]
    },
    {
     "name": "stdout",
     "output_type": "stream",
     "text": [
      "tensor([1.4927, 1.4496, 1.2481, 1.1995, 1.1336, 1.0302, 0.3775, 0.2747, 0.2320,\n",
      "        0.0043], device='cuda:0', grad_fn=<LinalgSvdBackward0>)\n",
      "tensor([ 0.5681+0.9266j,  0.5681-0.9266j,  0.8682+0.0000j,  0.4814+0.4012j,\n",
      "         0.4814-0.4012j, -0.7252+0.0000j,  0.2700+0.0000j, -0.4731+0.0000j,\n",
      "         0.0614+0.0000j, -0.1711+0.0000j], device='cuda:0',\n",
      "       grad_fn=<LinalgEigBackward0>)\n"
     ]
    },
    {
     "name": "stderr",
     "output_type": "stream",
     "text": [
      "100%|█████████████████████████████████████████████████████████████████████████████████████████████████████████████████████████████████████████████████████████████████| 10/10 [00:09<00:00,  1.02it/s, train_acc=99.1]\n"
     ]
    },
    {
     "name": "stdout",
     "output_type": "stream",
     "text": [
      "Test accuracy: 98.2%\n"
     ]
    },
    {
     "data": {
      "image/png": "[encoded data removed]",
      "text/plain": [
       "<Figure size 640x480 with 1 Axes>"
      ]
     },
     "metadata": {},
     "output_type": "display_data"
    },
    {
     "name": "stderr",
     "output_type": "stream",
     "text": [
      " 20%|███████████████████████████████████▌                                                                                                                                              | 2/10 [00:22<01:28, 11.12s/it]"
     ]
    },
    {
     "name": "stdout",
     "output_type": "stream",
     "text": [
      "tensor([1.4809, 1.4549, 1.3280, 1.2402, 1.2090, 0.9904, 0.3580, 0.1418, 0.0654,\n",
      "        0.0173], device='cuda:0', grad_fn=<LinalgSvdBackward0>)\n",
      "tensor([-1.1887+0.0000j,  1.2224+0.0000j, -0.3088+0.6402j, -0.3088-0.6402j,\n",
      "         0.6455+0.0000j, -0.3906+0.0000j, -0.0255+0.2153j, -0.0255-0.2153j,\n",
      "         0.1504+0.0732j,  0.1504-0.0732j], device='cuda:0',\n",
      "       grad_fn=<LinalgEigBackward0>)\n"
     ]
    },
    {
     "name": "stderr",
     "output_type": "stream",
     "text": [
      "100%|█████████████████████████████████████████████████████████████████████████████████████████████████████████████████████████████████████████████████████████████████| 10/10 [00:09<00:00,  1.04it/s, train_acc=99.9]\n"
     ]
    },
    {
     "name": "stdout",
     "output_type": "stream",
     "text": [
      "Test accuracy: 98.61%\n"
     ]
    },
    {
     "data": {
      "image/png": "[encoded data removed]",
      "text/plain": [
       "<Figure size 640x480 with 1 Axes>"
      ]
     },
     "metadata": {},
     "output_type": "display_data"
    },
    {
     "name": "stderr",
     "output_type": "stream",
     "text": [
      " 30%|█████████████████████████████████████████████████████▍                                                                                                                            | 3/10 [00:33<01:17, 11.04s/it]"
     ]
    },
    {
     "name": "stdout",
     "output_type": "stream",
     "text": [
      "tensor([1.4945, 1.4488, 1.2749, 1.2142, 1.0932, 0.9316, 0.3711, 0.2570, 0.1815,\n",
      "        0.0333], device='cuda:0', grad_fn=<LinalgSvdBackward0>)\n",
      "tensor([-1.0162+0.0000j,  0.9793+0.0000j,  0.3543+0.7558j,  0.3543-0.7558j,\n",
      "         0.5958+0.4920j,  0.5958-0.4920j, -0.4475+0.0000j, -0.0130+0.3079j,\n",
      "        -0.0130-0.3079j, -0.1118+0.0000j], device='cuda:0',\n",
      "       grad_fn=<LinalgEigBackward0>)\n"
     ]
    },
    {
     "name": "stderr",
     "output_type": "stream",
     "text": [
      "100%|█████████████████████████████████████████████████████████████████████████████████████████████████████████████████████████████████████████████████████████████████| 10/10 [00:09<00:00,  1.03it/s, train_acc=99.3]\n"
     ]
    },
    {
     "name": "stdout",
     "output_type": "stream",
     "text": [
      "Test accuracy: 98.33%\n"
     ]
    },
    {
     "data": {
      "image/png": "[encoded data removed]",
      "text/plain": [
       "<Figure size 640x480 with 1 Axes>"
      ]
     },
     "metadata": {},
     "output_type": "display_data"
    },
    {
     "name": "stderr",
     "output_type": "stream",
     "text": [
      " 40%|███████████████████████████████████████████████████████████████████████▏                                                                                                          | 4/10 [00:44<01:06, 11.01s/it]"
     ]
    },
    {
     "name": "stdout",
     "output_type": "stream",
     "text": [
      "tensor([1.4793, 1.4199, 1.3035, 1.2404, 1.0931, 0.9821, 0.5053, 0.2195, 0.0800,\n",
      "        0.0065], device='cuda:0', grad_fn=<LinalgSvdBackward0>)\n",
      "tensor([-0.4591+0.7497j, -0.4591-0.7497j, -0.6828+0.0000j,  0.8913+0.2590j,\n",
      "         0.8913-0.2590j,  0.1121+0.6475j,  0.1121-0.6475j, -0.0160+0.0000j,\n",
      "         0.3251+0.0000j,  0.2077+0.0000j], device='cuda:0',\n",
      "       grad_fn=<LinalgEigBackward0>)\n"
     ]
    },
    {
     "name": "stderr",
     "output_type": "stream",
     "text": [
      "100%|█████████████████████████████████████████████████████████████████████████████████████████████████████████████████████████████████████████████████████████████████| 10/10 [00:09<00:00,  1.03it/s, train_acc=99.7]\n"
     ]
    },
    {
     "name": "stdout",
     "output_type": "stream",
     "text": [
      "Test accuracy: 98.22%\n"
     ]
    },
    {
     "data": {
      "image/png": "[encoded data removed]",
      "text/plain": [
       "<Figure size 640x480 with 1 Axes>"
      ]
     },
     "metadata": {},
     "output_type": "display_data"
    },
    {
     "name": "stderr",
     "output_type": "stream",
     "text": [
      " 50%|█████████████████████████████████████████████████████████████████████████████████████████                                                                                         | 5/10 [00:55<00:55, 11.02s/it]"
     ]
    },
    {
     "name": "stdout",
     "output_type": "stream",
     "text": [
      "tensor([1.4956, 1.3646, 1.3096, 1.2413, 1.1020, 0.9935, 0.3668, 0.2148, 0.1286,\n",
      "        0.0405], device='cuda:0', grad_fn=<LinalgSvdBackward0>)\n",
      "tensor([ 1.0125+0.0000j,  0.6920+0.6554j,  0.6920-0.6554j,  0.6426+0.0000j,\n",
      "        -0.3034+0.6959j, -0.3034-0.6959j, -0.7793+0.0000j,  0.0804+0.0000j,\n",
      "        -0.3710+0.0000j, -0.1883+0.0000j], device='cuda:0',\n",
      "       grad_fn=<LinalgEigBackward0>)\n"
     ]
    },
    {
     "name": "stderr",
     "output_type": "stream",
     "text": [
      "100%|██████████████████████████████████████████████████████████████████████████████████████████████████████████████████████████████████████████████████████████████████| 10/10 [00:09<00:00,  1.03it/s, train_acc=100]\n"
     ]
    },
    {
     "name": "stdout",
     "output_type": "stream",
     "text": [
      "Test accuracy: 98.43%\n"
     ]
    },
    {
     "data": {
      "image/png": "[encoded data removed]",
      "text/plain": [
       "<Figure size 640x480 with 1 Axes>"
      ]
     },
     "metadata": {},
     "output_type": "display_data"
    },
    {
     "name": "stderr",
     "output_type": "stream",
     "text": [
      " 60%|██████████████████████████████████████████████████████████████████████████████████████████████████████████▊                                                                       | 6/10 [01:06<00:44, 11.03s/it]"
     ]
    },
    {
     "name": "stdout",
     "output_type": "stream",
     "text": [
      "tensor([1.5502, 1.3956, 1.2576, 1.1479, 1.1048, 1.0093, 0.3793, 0.2561, 0.1804,\n",
      "        0.0028], device='cuda:0', grad_fn=<LinalgSvdBackward0>)\n",
      "tensor([-0.9749+0.3652j, -0.9749-0.3652j,  0.8926+0.0000j,  0.7023+0.1670j,\n",
      "         0.7023-0.1670j, -0.0829+0.5366j, -0.0829-0.5366j, -0.4076+0.2756j,\n",
      "        -0.4076-0.2756j,  0.0047+0.0000j], device='cuda:0',\n",
      "       grad_fn=<LinalgEigBackward0>)\n"
     ]
    },
    {
     "name": "stderr",
     "output_type": "stream",
     "text": [
      "100%|██████████████████████████████████████████████████████████████████████████████████████████████████████████████████████████████████████████████████████████████████| 10/10 [00:09<00:00,  1.03it/s, train_acc=100]\n"
     ]
    },
    {
     "name": "stdout",
     "output_type": "stream",
     "text": [
      "Test accuracy: 98.53%\n"
     ]
    },
    {
     "data": {
      "image/png": "[encoded data removed]",
      "text/plain": [
       "<Figure size 640x480 with 1 Axes>"
      ]
     },
     "metadata": {},
     "output_type": "display_data"
    },
    {
     "name": "stderr",
     "output_type": "stream",
     "text": [
      " 70%|████████████████████████████████████████████████████████████████████████████████████████████████████████████████████████████▌                                                     | 7/10 [01:17<00:33, 11.04s/it]"
     ]
    },
    {
     "name": "stdout",
     "output_type": "stream",
     "text": [
      "tensor([1.5032, 1.4221, 1.2982, 1.2370, 1.1051, 0.9041, 0.5091, 0.2761, 0.1377,\n",
      "        0.0024], device='cuda:0', grad_fn=<LinalgSvdBackward0>)\n",
      "tensor([ 1.0499+0.2297j,  1.0499-0.2297j, -1.1095+0.0000j, -0.6049+0.6828j,\n",
      "        -0.6049-0.6828j, -0.0162+0.0000j, -0.1271+0.2365j, -0.1271-0.2365j,\n",
      "        -0.3403+0.1171j, -0.3403-0.1171j], device='cuda:0',\n",
      "       grad_fn=<LinalgEigBackward0>)\n"
     ]
    },
    {
     "name": "stderr",
     "output_type": "stream",
     "text": [
      "100%|██████████████████████████████████████████████████████████████████████████████████████████████████████████████████████████████████████████████████████████████████| 10/10 [00:09<00:00,  1.02it/s, train_acc=100]\n"
     ]
    },
    {
     "name": "stdout",
     "output_type": "stream",
     "text": [
      "Test accuracy: 98.33%\n"
     ]
    },
    {
     "data": {
      "image/png": "[encoded data removed]",
      "text/plain": [
       "<Figure size 640x480 with 1 Axes>"
      ]
     },
     "metadata": {},
     "output_type": "display_data"
    },
    {
     "name": "stderr",
     "output_type": "stream",
     "text": [
      " 80%|██████████████████████████████████████████████████████████████████████████████████████████████████████████████████████████████████████████████▍                                   | 8/10 [01:28<00:22, 11.08s/it]"
     ]
    },
    {
     "name": "stdout",
     "output_type": "stream",
     "text": [
      "tensor([1.4984, 1.4128, 1.3103, 1.2313, 1.0839, 0.9507, 0.4701, 0.1980, 0.1014,\n",
      "        0.0277], device='cuda:0', grad_fn=<LinalgSvdBackward0>)\n",
      "tensor([ 0.2315+0.5769j,  0.2315-0.5769j,  0.5095+0.2570j,  0.5095-0.2570j,\n",
      "        -0.7833+0.2884j, -0.7833-0.2884j, -0.1364+0.3231j, -0.1364-0.3231j,\n",
      "         0.1184+0.0000j, -0.7219+0.0000j], device='cuda:0',\n",
      "       grad_fn=<LinalgEigBackward0>)\n"
     ]
    },
    {
     "name": "stderr",
     "output_type": "stream",
     "text": [
      "100%|█████████████████████████████████████████████████████████████████████████████████████████████████████████████████████████████████████████████████████████████████| 10/10 [00:09<00:00,  1.03it/s, train_acc=97.4]\n"
     ]
    },
    {
     "name": "stdout",
     "output_type": "stream",
     "text": [
      "Test accuracy: 96.85%\n"
     ]
    },
    {
     "data": {
      "image/png": "[encoded data removed]",
      "text/plain": [
       "<Figure size 640x480 with 1 Axes>"
      ]
     },
     "metadata": {},
     "output_type": "display_data"
    },
    {
     "name": "stderr",
     "output_type": "stream",
     "text": [
      " 90%|████████████████████████████████████████████████████████████████████████████████████████████████████████████████████████████████████████████████████████████████▏                 | 9/10 [01:39<00:11, 11.15s/it]"
     ]
    },
    {
     "name": "stdout",
     "output_type": "stream",
     "text": [
      "tensor([1.7644, 1.5790, 1.3208, 1.2301, 0.9198, 0.7645, 0.4620, 0.3291, 0.1389,\n",
      "        0.0779], device='cuda:0', grad_fn=<LinalgSvdBackward0>)\n",
      "tensor([-1.2607+0.0000j,  0.7772+0.4881j,  0.7772-0.4881j, -0.6204+0.0000j,\n",
      "        -0.4220+0.5031j, -0.4220-0.5031j,  0.2013+0.4487j,  0.2013-0.4487j,\n",
      "         0.5056+0.0000j, -0.1508+0.0000j], device='cuda:0',\n",
      "       grad_fn=<LinalgEigBackward0>)\n"
     ]
    },
    {
     "name": "stderr",
     "output_type": "stream",
     "text": [
      "100%|█████████████████████████████████████████████████████████████████████████████████████████████████████████████████████████████████████████████████████████████████| 10/10 [00:09<00:00,  1.02it/s, train_acc=99.9]\n"
     ]
    },
    {
     "name": "stdout",
     "output_type": "stream",
     "text": [
      "Test accuracy: 98.48%\n"
     ]
    },
    {
     "data": {
      "image/png": "[encoded data removed]",
      "text/plain": [
       "<Figure size 640x480 with 1 Axes>"
      ]
     },
     "metadata": {},
     "output_type": "display_data"
    },
    {
     "name": "stderr",
     "output_type": "stream",
     "text": [
      "100%|█████████████████████████████████████████████████████████████████████████████████████████████████████████████████████████████████████████████████████████████████████████████████| 10/10 [01:50<00:00, 11.10s/it]"
     ]
    },
    {
     "name": "stdout",
     "output_type": "stream",
     "text": [
      "tensor([1.4564, 1.3697, 1.3217, 1.2219, 1.1495, 1.0221, 0.3608, 0.2149, 0.1264,\n",
      "        0.0728], device='cuda:0', grad_fn=<LinalgSvdBackward0>)\n",
      "tensor([-1.0760+0.0000j,  1.1973+0.0000j, -0.5589+0.5226j, -0.5589-0.5226j,\n",
      "         0.4743+0.3004j,  0.4743-0.3004j, -0.1347+0.4595j, -0.1347-0.4595j,\n",
      "         0.3227+0.0000j,  0.1536+0.0000j], device='cuda:0',\n",
      "       grad_fn=<LinalgEigBackward0>)\n"
     ]
    },
    {
     "name": "stderr",
     "output_type": "stream",
     "text": [
      "\n"
     ]
    }
   ],
   "source": [
    "torch.seed()\n",
    "for replay in trange(10):\n",
    "    model[-3].reset_parameters()\n",
    "    with trange(epochs) as t:\n",
    "        for _ in t:\n",
    "\n",
    "            model[-3].train()\n",
    "\n",
    "            train_loss = 0.0\n",
    "            correct = 0\n",
    "            total = 0\n",
    "\n",
    "            for X, y in train_loader:\n",
    "                X, y = X.to(device), y.to(device)\n",
    "\n",
    "                optimizer.zero_grad()\n",
    "\n",
    "                y_pred = model(X)\n",
    "                loss = criterion(y_pred, y)\n",
    "                loss.backward()\n",
    "                optimizer.step()\n",
    "\n",
    "                train_loss += loss.item()\n",
    "                _, predicted = y_pred.max(1)\n",
    "                total += y.size(0)\n",
    "                correct += predicted.eq(y).sum().item()\n",
    "\n",
    "            train_loss /= len(train_loader)\n",
    "\n",
    "            # print(f\"Train accuarcy: {100. * correct / total:.3f}%\")\n",
    "            train_acc = 100. * correct / total\n",
    "            hist_train_acc.append(100. * correct / total)\n",
    "            hist_train_loss.append(train_loss)\n",
    "\n",
    "            # scheduler.step()\n",
    "\n",
    "            t.set_postfix(train_acc=train_acc)\n",
    "\n",
    "    test_loss = 0.0\n",
    "    correct = 0\n",
    "    total = 0\n",
    "\n",
    "    model.eval()\n",
    "    with torch.no_grad():\n",
    "        for X, y in test_loader:\n",
    "            X, y = X.to(device), y.to(device)\n",
    "\n",
    "            y_pred = model(X)\n",
    "            loss = criterion(y_pred, y)\n",
    "\n",
    "            test_loss += loss.item()\n",
    "            _, predicted = y_pred.max(1)\n",
    "            total += y.size(0)\n",
    "            correct += predicted.eq(y).sum().item()\n",
    "\n",
    "    test_loss /= len(test_loader)\n",
    "\n",
    "    print(f\"Test accuracy: {100. * correct / total}%\")\n",
    "\n",
    "    replay_test_acc.append(correct/total)\n",
    "    replay_test_loss.append(test_loss)\n",
    "    replay_weights.append(model[-3].weight.detach().clone())\n",
    "    replay_biases.append(model[-3].bias.detach().clone())\n",
    "\n",
    "    # Get the mapping\n",
    "    A = torch.rand(model[-3].out_features, model[-3].out_features).to(device)\n",
    "    A.requires_grad = True\n",
    "    map_optimizer = optim.SGD([A], lr=1e-1)\n",
    "    hist_map_loss = []\n",
    "    for _ in range(3_000):\n",
    "        map_optimizer.zero_grad()\n",
    "        loss = torch.norm(A @ model[-3].weight - first_weights)**2\n",
    "        loss.backward()\n",
    "        hist_map_loss.append(loss.item())\n",
    "        map_optimizer.step()\n",
    "    plt.figure()\n",
    "    plt.plot(hist_map_loss)\n",
    "    plt.yscale(\"log\")\n",
    "    plt.show(block=False)\n",
    "    print(torch.linalg.svdvals(model[-3].weight))\n",
    "    sv = torch.linalg.svdvals(model[-3].weight)\n",
    "    print(torch.linalg.eigvals(model[-3].weight))\n",
    "    replay_sv.extend((sv).tolist())\n",
    "    replay_sv_norm.extend((sv/sum(sv)).tolist())\n",
    "    replay_mapping.append(A)\n"
   ]
  },
  {
   "cell_type": "code",
   "execution_count": 19,
   "metadata": {},
   "outputs": [
    {
     "data": {
      "text/plain": [
       "[tensor([[1., 0., 0., 0., 0., 0., 0., 0., 0., 0.],\n",
       "         [0., 1., 0., 0., 0., 0., 0., 0., 0., 0.],\n",
       "         [0., 0., 1., 0., 0., 0., 0., 0., 0., 0.],\n",
       "         [0., 0., 0., 1., 0., 0., 0., 0., 0., 0.],\n",
       "         [0., 0., 0., 0., 1., 0., 0., 0., 0., 0.],\n",
       "         [0., 0., 0., 0., 0., 1., 0., 0., 0., 0.],\n",
       "         [0., 0., 0., 0., 0., 0., 1., 0., 0., 0.],\n",
       "         [0., 0., 0., 0., 0., 0., 0., 1., 0., 0.],\n",
       "         [0., 0., 0., 0., 0., 0., 0., 0., 1., 0.],\n",
       "         [0., 0., 0., 0., 0., 0., 0., 0., 0., 1.]], device='cuda:0'),\n",
       " tensor([[ 8.4942e-01,  3.6239e-04, -2.2403e-01, -1.9830e-01, -6.3598e-02,\n",
       "           2.6156e-01,  6.2913e-01, -4.9738e-01, -2.0181e-01,  4.2250e-03],\n",
       "         [ 9.0466e-02,  1.8045e+00,  3.6804e-02, -1.6056e-01,  9.1880e-01,\n",
       "          -3.3791e-02,  1.4859e-01,  1.2663e+00, -1.2280e-01,  5.6727e-01],\n",
       "         [-1.2469e-01,  8.8113e-01,  1.0431e+00,  1.2028e-01,  2.2195e-01,\n",
       "          -1.4158e-01,  3.9680e-01,  4.7496e-01, -3.3167e-01,  3.4158e-01],\n",
       "         [ 1.6898e-01,  3.2848e-01, -1.4421e-01,  1.0318e+00, -2.5034e-01,\n",
       "          -8.9397e-02, -5.7032e-01, -2.5927e-01,  5.9175e-01,  3.7929e-02],\n",
       "         [-3.2587e-01,  4.0035e-01, -2.1824e-01, -8.5132e-02, -3.4258e-01,\n",
       "          -1.6529e-02,  3.1833e-01, -1.6318e-01, -2.2321e-01,  1.5421e-01],\n",
       "         [-1.3798e-01, -3.2761e-01, -4.2997e-01,  2.6035e-02,  1.0233e+00,\n",
       "           1.0370e+00,  4.7686e-01, -1.5103e+00,  3.4876e-01, -4.3159e-01],\n",
       "         [-2.7293e-01,  8.0349e-01, -3.0156e-01,  3.5340e-02,  1.7606e-01,\n",
       "           1.9136e-02,  8.3078e-01, -1.4123e-02, -4.1311e-01,  1.9129e-01],\n",
       "         [-4.6849e-01,  4.0085e-01, -3.1895e-02,  3.5345e-03, -4.3826e-01,\n",
       "           3.7495e-01,  2.6038e-01,  2.0736e-01, -4.4269e-01,  5.3125e-01],\n",
       "         [ 1.0730e-01, -6.5184e-01,  2.0869e-01,  1.4359e-01,  9.0641e-01,\n",
       "           5.1839e-02,  7.1418e-01,  7.9395e-01,  5.0318e-01, -7.0440e-02],\n",
       "         [ 6.8359e-02, -1.7351e-01, -2.8484e-01,  2.6539e-01,  1.2231e+00,\n",
       "           5.8694e-02,  5.2124e-01, -8.0823e-01, -1.7402e-01,  7.4898e-01]],\n",
       "        device='cuda:0', requires_grad=True),\n",
       " tensor([[ 2.7579,  1.1024,  0.6510, -0.1438,  0.8755, -0.3203,  1.6415, -2.9436,\n",
       "           0.7009, -0.1428],\n",
       "         [-2.0100, -0.0610, -0.7771, -0.6533, -0.7868,  0.3035, -1.8098, -0.4295,\n",
       "          -0.7282, -2.2231],\n",
       "         [ 0.5796,  0.3829,  0.8353,  0.6961,  0.5168, -0.0834,  0.6696,  2.1387,\n",
       "          -0.1953, -0.2942],\n",
       "         [-0.1334,  0.1430, -0.0676,  0.7363, -0.2855, -0.0775, -0.5913, -0.8379,\n",
       "           0.1961,  0.1359],\n",
       "         [ 0.4292, -0.0103,  0.0511, -0.0964, -0.0588,  0.0581, -0.3652, -0.3694,\n",
       "          -0.0478,  0.2486],\n",
       "         [ 4.0275,  1.2649,  1.2882,  0.8979,  0.8944,  0.5521,  3.8820, -0.9455,\n",
       "           1.0239,  1.1811],\n",
       "         [ 1.9884, -0.1080,  0.0560,  0.3338, -0.1235,  0.1004, -1.0938,  0.6181,\n",
       "          -0.5466, -2.1096],\n",
       "         [-1.3503, -0.0868, -0.2310,  0.0756,  0.2092,  0.4897, -0.1414,  0.8403,\n",
       "          -0.0906,  1.3948],\n",
       "         [ 1.0027, -0.7697, -0.1903,  1.0461,  0.2600,  0.0926,  0.2537,  4.8011,\n",
       "           0.1422, -2.7934],\n",
       "         [-0.9332, -1.3784, -0.4183,  0.2450, -0.1090,  0.4873, -2.2706,  1.3304,\n",
       "          -1.3570, -3.3657]], device='cuda:0', requires_grad=True),\n",
       " tensor([[ 1.5360e+00,  2.1566e+00, -7.7902e-02, -3.4741e-02,  8.7266e-01,\n",
       "          -5.1517e-02, -7.3517e-01,  1.0079e+00,  7.0506e-01,  2.1803e-01],\n",
       "         [ 5.0051e-01,  2.4027e-01,  1.2737e-03,  1.7754e-01,  2.0979e-01,\n",
       "           4.0316e-01,  6.6792e-01, -1.8065e+00,  7.1409e-03, -4.8911e-01],\n",
       "         [-1.1401e+00, -2.5840e+00,  7.8355e-01,  4.8231e-01, -9.8458e-01,\n",
       "          -1.5743e-01,  9.2013e-02, -2.9837e+00,  3.6057e-01,  3.2564e-01],\n",
       "         [ 1.6619e+00,  3.2425e+00,  2.4316e-01,  1.1479e+00,  3.3072e+00,\n",
       "           2.3173e-01, -5.7819e-01,  2.6149e+00,  1.1379e-04, -4.9544e-01],\n",
       "         [ 1.3742e-01,  8.4561e-02, -3.3575e-02, -2.1923e-01,  4.0102e-01,\n",
       "           6.6609e-02, -1.7314e-01,  1.1379e+00, -2.6854e-01, -1.3758e-01],\n",
       "         [-4.9846e-01, -5.1395e-01, -5.6505e-01,  2.6592e-01, -1.7517e+00,\n",
       "           2.8647e-01, -1.5946e+00, -3.8569e-01,  1.8692e+00,  2.6554e-01],\n",
       "         [ 4.9509e-02, -4.5518e-01, -1.7390e-01, -1.1934e-01, -6.1369e-01,\n",
       "          -6.4500e-02,  1.9184e-02,  4.4110e-01, -2.6957e-01, -2.5260e-01],\n",
       "         [-3.6793e-01, -8.9802e-01,  9.2081e-03,  1.1400e-01,  2.4278e-01,\n",
       "           5.3120e-01, -2.2101e-02, -3.8350e-01, -2.9403e-01,  1.1558e-01],\n",
       "         [-1.6691e+00, -2.6314e+00, -1.2013e-01,  3.1255e-01, -3.0965e+00,\n",
       "          -3.6952e-01,  1.9721e+00, -3.8092e+00,  1.8618e-01,  4.7048e-01],\n",
       "         [ 1.8032e+00,  5.2948e+00,  6.1111e-01,  7.5148e-01,  2.7732e+00,\n",
       "           1.0657e+00,  1.1138e-01,  1.0409e+00, -4.8409e-01,  1.1416e-01]],\n",
       "        device='cuda:0', requires_grad=True),\n",
       " tensor([[ 0.9799, -0.1485, -0.2200, -1.3145, -0.0233,  0.0606, -0.5237, -0.2620,\n",
       "           0.0373,  0.2486],\n",
       "         [ 0.7760,  0.3054,  0.4595,  1.5157, -0.7019,  0.2617, -0.0398,  0.0956,\n",
       "          -0.0693,  0.1962],\n",
       "         [ 1.1105, -1.2512,  1.6098, -2.4477, -3.0799,  0.1286, -4.6925, -0.4488,\n",
       "           1.2487,  1.0371],\n",
       "         [ 0.5950, -0.8865, -0.4601, -3.1806, -0.0116, -0.2380, -0.6001,  0.6900,\n",
       "          -0.2287, -0.8782],\n",
       "         [-0.6171,  0.6911, -0.2741,  1.1243,  1.1277, -0.0491,  1.7499,  0.1525,\n",
       "          -0.5153, -0.4009],\n",
       "         [-0.7074,  0.6985, -0.5759, -1.5556, -0.5027,  0.3537, -1.9348, -0.0486,\n",
       "           1.4200,  0.1858],\n",
       "         [-0.7693,  1.2467, -0.4013,  1.1346,  0.8359, -0.2657,  1.1311,  0.2727,\n",
       "          -0.1292, -0.0619],\n",
       "         [-0.6630,  0.6861,  0.2531,  1.7380,  0.3095,  0.2738,  0.1552,  0.3620,\n",
       "          -0.0282,  0.1991],\n",
       "         [-0.0156, -0.4840,  0.3269, -0.6627, -2.0666, -0.3316, -3.0112,  0.1182,\n",
       "           1.9386,  1.6564],\n",
       "         [ 0.3802, -0.4658,  0.3362, -1.3026, -2.0639,  0.4189, -2.9487,  0.3042,\n",
       "           0.3290,  1.6718]], device='cuda:0', requires_grad=True),\n",
       " tensor([[ 2.0992e-01,  1.0357e+00,  4.1533e-01, -3.2480e-01,  2.6040e-01,\n",
       "           2.4252e-01,  2.9480e+00,  5.7062e-01, -1.0813e+00,  9.6141e-01],\n",
       "         [ 1.0565e+00, -1.5410e+00, -5.1963e-01, -7.9113e-02, -2.5615e-01,\n",
       "          -1.5989e-01, -1.7063e+00, -2.3400e-01,  8.9668e-01, -1.1145e-01],\n",
       "         [ 1.0131e+00, -2.5782e+00,  8.7620e-02,  1.4780e-01,  1.4126e+00,\n",
       "           4.1846e-03, -3.5295e+00, -6.1739e-01,  5.0684e+00, -2.3562e+00],\n",
       "         [-8.9988e-01, -7.5580e-01, -2.7589e-01,  1.3688e+00, -9.7432e-01,\n",
       "          -4.1502e-02,  2.8548e+00,  3.7338e-01, -4.9198e+00,  1.1985e-01],\n",
       "         [-3.8805e-01,  1.0236e+00,  2.2829e-01,  2.4607e-02, -6.0354e-01,\n",
       "          -1.9707e-02,  8.5690e-01, -3.0502e-02, -1.9874e+00,  8.0831e-01],\n",
       "         [ 1.1668e+00,  2.0952e+00,  7.6054e-01, -1.0215e+00,  9.3596e-01,\n",
       "           7.7843e-01, -1.6504e+00,  8.8604e-01,  7.1324e+00, -4.9889e-01],\n",
       "         [ 1.3714e-01,  6.9482e-01,  2.6354e-01, -1.4254e-01, -5.7193e-01,\n",
       "          -2.4583e-01,  3.3809e-01,  1.3629e-01, -5.0643e-01,  9.5993e-01],\n",
       "         [ 1.7456e-01, -1.2292e-01, -1.5222e-01,  2.9257e-01, -2.3855e-01,\n",
       "           9.2371e-02, -2.0797e+00, -4.2587e-01,  1.4713e-01,  1.7442e-01],\n",
       "         [ 5.9370e-01, -3.8462e+00, -1.0138e+00, -4.1505e-01,  1.5350e+00,\n",
       "          -1.3986e-01, -3.0994e+00,  5.8878e-01,  5.0941e+00, -2.2478e+00],\n",
       "         [-1.7097e-01, -3.8112e+00, -9.6026e-01,  6.7123e-01,  3.4969e-01,\n",
       "           2.7322e-01, -4.8243e-01, -2.9397e-01, -1.3585e-02, -2.7550e-01]],\n",
       "        device='cuda:0', requires_grad=True),\n",
       " tensor([[-0.7464,  0.3966, -0.6480,  0.2457,  0.7939, -0.0175,  0.5597, -1.2570,\n",
       "          -0.1302, -0.7437],\n",
       "         [ 1.5559,  0.5625, -0.2767, -0.0058,  0.6872,  0.5531,  1.2397,  0.2577,\n",
       "           0.1563, -0.6567],\n",
       "         [ 0.3453, -0.0995,  0.7889, -0.8693, -0.0109,  0.0550,  0.2589, -1.0855,\n",
       "          -0.1598, -0.3370],\n",
       "         [-1.2482,  0.2063, -0.3022,  0.8986,  0.1919, -0.1531,  1.5141,  0.3240,\n",
       "           0.2346,  0.1176],\n",
       "         [-0.4337, -0.0420,  0.0706,  0.2932, -0.0555,  0.0094, -0.0609,  0.4904,\n",
       "          -0.0349,  0.0719],\n",
       "         [-0.9466,  0.2603,  0.3713, -2.1939, -1.8656,  0.2000, -2.5427, -0.3111,\n",
       "          -0.1361,  0.8228],\n",
       "         [-0.0642,  0.2332,  0.1484,  0.5506, -0.2692, -0.1104, -0.2183,  0.2692,\n",
       "          -0.0292,  0.2672],\n",
       "         [ 0.5827, -0.0843,  0.0339, -0.7514,  0.2952,  0.7086,  0.5792,  0.6500,\n",
       "          -0.0261,  0.0391],\n",
       "         [ 1.8883,  0.0482,  0.2069, -0.7386, -0.0288, -0.2093, -0.5382, -0.0172,\n",
       "           0.8368,  0.6851],\n",
       "         [ 1.7266, -0.2339, -0.4809,  0.0782,  0.7676,  0.8021,  1.0616, -1.0941,\n",
       "          -0.1052,  0.1658]], device='cuda:0', requires_grad=True),\n",
       " tensor([[ 0.5399,  0.5885,  0.9488,  0.4128,  0.6136, -0.0088,  0.8262, -1.3681,\n",
       "           0.7169, -0.1777],\n",
       "         [ 0.1883,  0.5212,  0.3781,  0.7700, -0.0585,  0.4858,  1.0506,  1.4453,\n",
       "          -0.9279, -0.0831],\n",
       "         [-0.7856,  1.0006,  0.2426, -0.2942,  0.0143,  0.4333, -0.5719, -1.0063,\n",
       "           0.9157,  0.1115],\n",
       "         [ 0.1676,  0.0096,  2.2814,  0.8509, -0.0202, -0.0638, -0.6602, -2.2931,\n",
       "           1.8471,  0.2829],\n",
       "         [-0.1496,  0.1127,  0.9180, -0.4328, -0.0709,  0.0624,  0.0039, -0.5608,\n",
       "           0.4090,  0.3666],\n",
       "         [-0.2291,  1.0070, -0.5270, -1.3035, -0.7250,  0.4741,  1.7948,  1.6004,\n",
       "          -0.4016,  1.4709],\n",
       "         [-0.1508,  0.4502,  0.7719, -0.4562, -0.1793,  0.0251, -0.0694, -0.0477,\n",
       "           0.1091,  0.5979],\n",
       "         [-0.1991,  0.0732,  0.4471, -0.3472, -0.1567,  0.5247,  0.1661, -0.0139,\n",
       "          -0.0830,  0.6848],\n",
       "         [-0.3288,  0.6960, -0.5391,  0.0834,  0.2138, -0.0620,  1.7032,  2.9036,\n",
       "          -0.5251,  0.5658],\n",
       "         [-0.4898,  0.5538,  1.1881,  0.4818,  0.6751,  0.5315,  1.0580,  0.4728,\n",
       "          -0.0819,  0.9437]], device='cuda:0', requires_grad=True),\n",
       " tensor([[-2.7692, -0.5064, -0.1833,  1.4373,  1.0633,  3.6579, -3.5735,  0.5929,\n",
       "           1.3887, -0.1404],\n",
       "         [-3.3273, -0.8154,  0.1863,  0.7112, -0.8772, -1.9199, -3.0025, -0.8256,\n",
       "          -0.1026, -0.4334],\n",
       "         [ 2.8950,  1.9949,  0.6931, -1.0185,  0.4624,  2.1658,  1.8502,  0.6675,\n",
       "           0.1305,  0.6478],\n",
       "         [-1.2499, -0.9362, -0.0387,  1.9714, -0.0955, -1.8955, -0.5920, -0.5103,\n",
       "           0.1623, -0.3245],\n",
       "         [ 0.2161, -0.2435, -0.0819,  0.0659, -0.0914, -1.2393,  0.4069, -0.4093,\n",
       "          -0.2769, -0.2077],\n",
       "         [ 3.2225,  2.4274, -0.5034, -2.2050,  0.2621,  3.6984,  3.6132,  0.9611,\n",
       "           0.3381,  2.0944],\n",
       "         [ 0.5711,  0.2293, -0.0882, -0.3581, -0.3555, -2.1340,  1.2201, -0.3532,\n",
       "          -0.8534,  0.0554],\n",
       "         [ 0.3459, -0.1925,  0.2433, -0.2324, -0.1488, -0.3627, -0.3206, -0.3288,\n",
       "           0.0883,  0.3365],\n",
       "         [ 4.2702,  2.5593, -0.2034, -2.7895,  0.2344,  2.1880,  4.2624,  1.9893,\n",
       "          -0.0317,  1.5886],\n",
       "         [-4.3837, -0.9595,  0.8189, -0.1131, -0.2263,  3.1587, -2.4864,  0.7542,\n",
       "           0.5186,  1.0140]], device='cuda:0', requires_grad=True),\n",
       " tensor([[ 3.0359e+00, -7.6544e-01, -4.4526e-01, -8.6941e-01,  4.3175e+00,\n",
       "          -5.0991e-01, -1.2333e+00, -5.3514e-01, -5.5510e+00,  1.3952e-01],\n",
       "         [ 3.5189e+00, -3.0802e-02,  1.0744e+00, -5.7379e-01,  3.5875e+00,\n",
       "           6.5629e-01, -9.6826e-01,  2.9554e-01, -2.9269e+00,  1.1319e-01],\n",
       "         [-6.8702e+00,  1.4482e+00, -1.7589e+00,  1.9083e+00, -4.2464e+00,\n",
       "           2.9411e-02,  2.6712e+00, -2.7852e-01,  4.8489e+00, -7.5442e-01],\n",
       "         [ 1.8045e+00, -9.3749e-01, -1.0803e+00,  6.7153e-01,  1.7658e+00,\n",
       "          -3.2932e-01, -5.4871e-01, -7.0772e-02, -3.4035e+00, -2.3263e-01],\n",
       "         [ 8.0993e-01, -4.3983e-03,  5.4633e-01, -1.6798e-01, -5.4239e-01,\n",
       "           1.5281e-01, -5.7555e-02,  4.3650e-02,  5.9031e-01,  1.3914e-01],\n",
       "         [-4.8055e-01,  2.7511e-02, -4.0666e-02, -4.4692e-01,  1.8814e-01,\n",
       "           1.7108e-01, -1.3905e+00, -2.4395e-01, -7.5900e-01,  2.2890e-01],\n",
       "         [ 7.4998e-01,  2.5638e-01,  5.5471e-01, -4.1409e-02, -2.3200e-01,\n",
       "           2.2998e-01,  4.9164e-03,  2.2045e-01,  6.9230e-01,  2.1467e-01],\n",
       "         [ 6.3434e-01,  2.1681e-01,  1.4400e+00, -1.5060e-01,  3.6774e-02,\n",
       "           9.3055e-01, -2.4162e-03,  3.5588e-01,  7.5845e-01,  4.5012e-01],\n",
       "         [-3.7757e+00,  4.0102e-01, -1.2240e+00,  1.2323e-01, -1.5807e+00,\n",
       "          -3.3438e-01, -2.7957e-01,  7.1778e-01,  5.0580e-01, -3.1858e-01],\n",
       "         [-1.9133e+00, -4.0078e-01, -1.3348e+00,  5.9736e-01,  2.5872e+00,\n",
       "           6.2472e-01,  8.7912e-01,  3.9812e-01, -1.4035e+00,  2.9790e-01]],\n",
       "        device='cuda:0', requires_grad=True),\n",
       " tensor([[-1.6009e-01, -4.1390e-02, -3.1890e-01,  7.8138e-01,  3.7329e-01,\n",
       "           7.7978e-01, -6.0460e-01, -3.4389e+00, -8.9622e-01,  4.7206e-01],\n",
       "         [-9.8053e-02,  7.7383e-02, -3.5597e-01,  3.6723e-01,  3.2749e-01,\n",
       "           4.3878e-01,  1.5831e+00, -4.4034e+00, -4.7666e-01, -4.4302e-01],\n",
       "         [-9.8331e-01,  1.9595e-01,  1.0321e+00, -1.7596e-01, -9.6386e-01,\n",
       "          -1.5697e+00, -1.3744e+00, -1.4481e+00,  3.3857e-01,  1.7917e-01],\n",
       "         [ 7.9081e-03,  7.5252e-01,  1.8775e-01, -4.9756e-01,  9.0235e-02,\n",
       "           6.6350e+00,  1.5479e-01, -4.9298e+00,  9.0215e-01,  5.4786e-01],\n",
       "         [ 3.8315e-01,  2.7832e-01, -7.7658e-02, -2.1830e-01,  2.8092e-01,\n",
       "           9.4723e-01,  4.2939e-01,  1.1467e+00,  1.1370e-01, -2.2154e-01],\n",
       "         [ 1.3171e+00, -1.5441e-01, -3.0017e-01,  8.0204e-01, -8.4688e-02,\n",
       "          -4.3202e+00,  1.0756e+00,  5.1758e+00, -5.0409e-01, -2.8146e-01],\n",
       "         [ 2.0086e-01,  3.5704e-01, -2.4714e-01, -2.7346e-01,  2.4891e-01,\n",
       "           2.1931e-01,  1.0206e+00,  5.5116e-01,  1.7362e-01, -1.8536e-01],\n",
       "         [ 7.2960e-01,  2.5675e-02, -4.1561e-03,  4.3313e-01,  8.5290e-01,\n",
       "          -5.5033e-02,  2.1807e+00,  6.7119e-01, -4.3712e-01, -6.4817e-01],\n",
       "         [-9.2305e-01, -1.4001e+00,  1.0948e-01,  1.0343e-01, -1.0394e+00,\n",
       "          -5.5572e+00, -1.6986e+00, -3.4209e-01,  3.9187e-01,  6.8411e-01],\n",
       "         [-1.3356e+00, -1.0580e+00,  5.8743e-01, -3.5879e-01, -1.8478e-01,\n",
       "          -8.1455e-02,  4.9928e-01, -6.9883e+00, -5.1282e-01,  5.4908e-01]],\n",
       "        device='cuda:0', requires_grad=True)]"
      ]
     },
     "execution_count": 19,
     "metadata": {},
     "output_type": "execute_result"
    }
   ],
   "source": [
    "replay_mapping                     "
   ]
  },
  {
   "cell_type": "code",
   "execution_count": 20,
   "metadata": {},
   "outputs": [],
   "source": [
    "U, S, V = torch.linalg.svd(model[-3].weight)"
   ]
  },
  {
   "cell_type": "code",
   "execution_count": 21,
   "metadata": {},
   "outputs": [
    {
     "data": {
      "text/plain": [
       "tensor([1.4564, 1.3697, 1.3217, 1.2219, 1.1495, 1.0221, 0.3608, 0.2149, 0.1264,\n",
       "        0.0728], device='cuda:0', grad_fn=<LinalgSvdBackward0>)"
      ]
     },
     "execution_count": 21,
     "metadata": {},
     "output_type": "execute_result"
    }
   ],
   "source": [
    "S"
   ]
  },
  {
   "cell_type": "code",
   "execution_count": 22,
   "metadata": {},
   "outputs": [
    {
     "data": {
      "text/plain": [
       "[1.5802265405654907,\n",
       " 1.538368821144104,\n",
       " 1.3941316604614258,\n",
       " 1.276806354522705,\n",
       " 1.2389353513717651,\n",
       " 1.201912522315979,\n",
       " 0.7125484943389893,\n",
       " 0.31127873063087463,\n",
       " 0.24409164488315582,\n",
       " 0.08848235011100769,\n",
       " 1.4926724433898926,\n",
       " 1.449571132659912,\n",
       " 1.2480543851852417,\n",
       " 1.1994738578796387,\n",
       " 1.1335726976394653,\n",
       " 1.0302010774612427,\n",
       " 0.3774869441986084,\n",
       " 0.27472323179244995,\n",
       " 0.23203949630260468,\n",
       " 0.004309238865971565,\n",
       " 1.4808930158615112,\n",
       " 1.4549189805984497,\n",
       " 1.327976942062378,\n",
       " 1.2401671409606934,\n",
       " 1.209030032157898,\n",
       " 0.9903902411460876,\n",
       " 0.35796549916267395,\n",
       " 0.14175227284431458,\n",
       " 0.06541075557470322,\n",
       " 0.017259830608963966,\n",
       " 1.4944959878921509,\n",
       " 1.4487961530685425,\n",
       " 1.2748887538909912,\n",
       " 1.2141826152801514,\n",
       " 1.0931893587112427,\n",
       " 0.931634783744812,\n",
       " 0.3710554540157318,\n",
       " 0.25702157616615295,\n",
       " 0.18149559199810028,\n",
       " 0.033302776515483856,\n",
       " 1.479283332824707,\n",
       " 1.4198520183563232,\n",
       " 1.3034926652908325,\n",
       " 1.2403644323349,\n",
       " 1.0931437015533447,\n",
       " 0.9821498394012451,\n",
       " 0.505263090133667,\n",
       " 0.2194596379995346,\n",
       " 0.08002373576164246,\n",
       " 0.006542337127029896,\n",
       " 1.4955699443817139,\n",
       " 1.3646149635314941,\n",
       " 1.3096013069152832,\n",
       " 1.2413157224655151,\n",
       " 1.1020386219024658,\n",
       " 0.9934898018836975,\n",
       " 0.3668076992034912,\n",
       " 0.21476642787456512,\n",
       " 0.12863321602344513,\n",
       " 0.040518853813409805,\n",
       " 1.5502066612243652,\n",
       " 1.3955644369125366,\n",
       " 1.2576026916503906,\n",
       " 1.1479387283325195,\n",
       " 1.1047570705413818,\n",
       " 1.009273648262024,\n",
       " 0.37926045060157776,\n",
       " 0.2560938596725464,\n",
       " 0.18035948276519775,\n",
       " 0.002796739339828491,\n",
       " 1.5031721591949463,\n",
       " 1.4220657348632812,\n",
       " 1.2982349395751953,\n",
       " 1.2370365858078003,\n",
       " 1.1050746440887451,\n",
       " 0.9041107892990112,\n",
       " 0.5090917348861694,\n",
       " 0.27610692381858826,\n",
       " 0.13773947954177856,\n",
       " 0.00242700707167387,\n",
       " 1.4984291791915894,\n",
       " 1.4127607345581055,\n",
       " 1.3102843761444092,\n",
       " 1.2312769889831543,\n",
       " 1.083869218826294,\n",
       " 0.9507095813751221,\n",
       " 0.470139741897583,\n",
       " 0.19798241555690765,\n",
       " 0.1014193668961525,\n",
       " 0.02774566411972046,\n",
       " 1.7644004821777344,\n",
       " 1.5790045261383057,\n",
       " 1.3207966089248657,\n",
       " 1.2301138639450073,\n",
       " 0.919837474822998,\n",
       " 0.7644598484039307,\n",
       " 0.4619576036930084,\n",
       " 0.3291030824184418,\n",
       " 0.1389048993587494,\n",
       " 0.07794427871704102,\n",
       " 1.4564354419708252,\n",
       " 1.3697223663330078,\n",
       " 1.3217048645019531,\n",
       " 1.2219258546829224,\n",
       " 1.1495383977890015,\n",
       " 1.022066593170166,\n",
       " 0.3608446419239044,\n",
       " 0.2149365395307541,\n",
       " 0.12644708156585693,\n",
       " 0.07279341667890549]"
      ]
     },
     "execution_count": 22,
     "metadata": {},
     "output_type": "execute_result"
    }
   ],
   "source": [
    "replay_sv"
   ]
  },
  {
   "cell_type": "code",
   "execution_count": 23,
   "metadata": {},
   "outputs": [
    {
     "data": {
      "image/png": "[encoded data removed]",
      "text/plain": [
       "<Figure size 640x480 with 1 Axes>"
      ]
     },
     "metadata": {},
     "output_type": "display_data"
    }
   ],
   "source": [
    "plt.figure()\n",
    "plt.hist(replay_sv, bins=50)\n",
    "plt.show()"
   ]
  },
  {
   "cell_type": "code",
   "execution_count": 24,
   "metadata": {},
   "outputs": [
    {
     "data": {
      "image/png": "[encoded data removed]",
      "text/plain": [
       "<Figure size 640x480 with 1 Axes>"
      ]
     },
     "metadata": {},
     "output_type": "display_data"
    }
   ],
   "source": [
    "plt.figure()\n",
    "plt.hist(replay_sv_norm, bins=50)\n",
    "plt.show()"
   ]
  },
  {
   "cell_type": "code",
   "execution_count": null,
   "metadata": {},
   "outputs": [],
   "source": []
  }
 ],
 "metadata": {
  "kernelspec": {
   "display_name": "Python 3 (ipykernel)",
   "language": "python",
   "name": "python3"
  },
  "language_info": {
   "codemirror_mode": {
    "name": "ipython",
    "version": 3
   },
   "file_extension": ".py",
   "mimetype": "text/x-python",
   "name": "python",
   "nbconvert_exporter": "python",
   "pygments_lexer": "ipython3",
   "version": "3.10.11"
  },
  "orig_nbformat": 4
 },
 "nbformat": 4,
 "nbformat_minor": 2
}
